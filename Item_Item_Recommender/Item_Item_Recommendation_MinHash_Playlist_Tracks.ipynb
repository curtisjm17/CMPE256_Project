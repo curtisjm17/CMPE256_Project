{
 "cells": [
  {
   "cell_type": "markdown",
   "metadata": {},
   "source": [
    "## Import Required Libraries "
   ]
  },
  {
   "cell_type": "code",
   "execution_count": 1,
   "metadata": {},
   "outputs": [],
   "source": [
    "import pandas as pd\n",
    "import numpy as np\n",
    "import time\n",
    "import os\n",
    "import csv\n",
    "import json\n",
    "import random\n",
    "from itertools import combinations"
   ]
  },
  {
   "cell_type": "markdown",
   "metadata": {},
   "source": [
    "## Read CSV File Mapping Playlist to Track"
   ]
  },
  {
   "cell_type": "code",
   "execution_count": 2,
   "metadata": {},
   "outputs": [
    {
     "data": {
      "text/html": [
       "<div>\n",
       "<style scoped>\n",
       "    .dataframe tbody tr th:only-of-type {\n",
       "        vertical-align: middle;\n",
       "    }\n",
       "\n",
       "    .dataframe tbody tr th {\n",
       "        vertical-align: top;\n",
       "    }\n",
       "\n",
       "    .dataframe thead th {\n",
       "        text-align: right;\n",
       "    }\n",
       "</style>\n",
       "<table border=\"1\" class=\"dataframe\">\n",
       "  <thead>\n",
       "    <tr style=\"text-align: right;\">\n",
       "      <th></th>\n",
       "      <th>Playlist ID</th>\n",
       "      <th>Track ID</th>\n",
       "    </tr>\n",
       "  </thead>\n",
       "  <tbody>\n",
       "    <tr>\n",
       "      <th>0</th>\n",
       "      <td>0</td>\n",
       "      <td>0</td>\n",
       "    </tr>\n",
       "    <tr>\n",
       "      <th>1</th>\n",
       "      <td>0</td>\n",
       "      <td>1</td>\n",
       "    </tr>\n",
       "    <tr>\n",
       "      <th>2</th>\n",
       "      <td>0</td>\n",
       "      <td>2</td>\n",
       "    </tr>\n",
       "    <tr>\n",
       "      <th>3</th>\n",
       "      <td>0</td>\n",
       "      <td>3</td>\n",
       "    </tr>\n",
       "    <tr>\n",
       "      <th>4</th>\n",
       "      <td>0</td>\n",
       "      <td>4</td>\n",
       "    </tr>\n",
       "    <tr>\n",
       "      <th>...</th>\n",
       "      <td>...</td>\n",
       "      <td>...</td>\n",
       "    </tr>\n",
       "    <tr>\n",
       "      <th>65464771</th>\n",
       "      <td>999999</td>\n",
       "      <td>466732</td>\n",
       "    </tr>\n",
       "    <tr>\n",
       "      <th>65464772</th>\n",
       "      <td>999999</td>\n",
       "      <td>466734</td>\n",
       "    </tr>\n",
       "    <tr>\n",
       "      <th>65464773</th>\n",
       "      <td>999999</td>\n",
       "      <td>582308</td>\n",
       "    </tr>\n",
       "    <tr>\n",
       "      <th>65464774</th>\n",
       "      <td>999999</td>\n",
       "      <td>582311</td>\n",
       "    </tr>\n",
       "    <tr>\n",
       "      <th>65464775</th>\n",
       "      <td>999999</td>\n",
       "      <td>627055</td>\n",
       "    </tr>\n",
       "  </tbody>\n",
       "</table>\n",
       "<p>65464776 rows × 2 columns</p>\n",
       "</div>"
      ],
      "text/plain": [
       "          Playlist ID  Track ID\n",
       "0                   0         0\n",
       "1                   0         1\n",
       "2                   0         2\n",
       "3                   0         3\n",
       "4                   0         4\n",
       "...               ...       ...\n",
       "65464771       999999    466732\n",
       "65464772       999999    466734\n",
       "65464773       999999    582308\n",
       "65464774       999999    582311\n",
       "65464775       999999    627055\n",
       "\n",
       "[65464776 rows x 2 columns]"
      ]
     },
     "execution_count": 2,
     "metadata": {},
     "output_type": "execute_result"
    }
   ],
   "source": [
    "# Load Playlist to Track ID data\n",
    "df_track = pd.read_csv('../data/track_w_playlist_id.csv')\n",
    "df_track"
   ]
  },
  {
   "cell_type": "markdown",
   "metadata": {},
   "source": [
    "## Construct Utility Matrix"
   ]
  },
  {
   "cell_type": "code",
   "execution_count": 3,
   "metadata": {},
   "outputs": [],
   "source": [
    "# Get list of playlists and tracks\n",
    "pl_sort = df_track['Playlist ID'].to_list()\n",
    "track_sort = df_track['Track ID'].to_list()\n",
    "\n",
    "# Initialize dictionary to map tracks to playlist\n",
    "tracks_to_playlist = dict([]);\n",
    "\n",
    "# Loop through each track\n",
    "for idx in range(0, len(track_sort)):\n",
    "    \n",
    "    # Get track and playlist for entry\n",
    "    song = track_sort[idx]\n",
    "    pl = pl_sort[idx]\n",
    "    \n",
    "    # Add playlist to list of playlist that track occurs in\n",
    "    playlist_list = tracks_to_playlist.get(song, [])\n",
    "    playlist_list.append(pl)\n",
    "\n",
    "    # Add playlist list to track to playlist dictionary\n",
    "    tracks_to_playlist[song] = playlist_list\n",
    "    \n",
    "# Clear varaibles no longer needed\n",
    "df_track = []\n",
    "track_sort  = []\n",
    "pl_sort = []\n",
    "playlist_list = []"
   ]
  },
  {
   "cell_type": "markdown",
   "metadata": {},
   "source": [
    "## Construct Signature Matrix"
   ]
  },
  {
   "cell_type": "code",
   "execution_count": 4,
   "metadata": {},
   "outputs": [],
   "source": [
    "# Our random hash function will take the form of \n",
    "# h(x) = (a * x + b) % c\n",
    "# where 'x' is the input value, 'a' and 'b' are random coefficients, \n",
    "# and 'c' is a prime number just greater than maxShingleID.\n",
    "\n",
    "# Generate a list of 'k' random coefficients for the random hash functions, \n",
    "# while ensuring that the same value does not appear multiple times in the list.\n",
    "def pickRandomCoeffs(k, max_size):\n",
    "  # Create a list of 'k' random values.\n",
    "  randList = []\n",
    "\n",
    "  while k > 0:\n",
    "    # Get a random shingle ID.\n",
    "    randIndex = random.randint(0, max_size)\n",
    "\n",
    "    # Ensure that each random number is unique.\n",
    "    while randIndex in randList:\n",
    "      randIndex = random.randint(0, max_size)\n",
    "\n",
    "    # Add the random number to the list.\n",
    "    randList.append(randIndex)\n",
    "    k = k - 1\n",
    "\n",
    "  return randList "
   ]
  },
  {
   "cell_type": "code",
   "execution_count": 5,
   "metadata": {},
   "outputs": [],
   "source": [
    "# Set parameters to be used in minHash\n",
    "num_hash = 10\n",
    "max_value = 1000000\n",
    "coeffA = pickRandomCoeffs(num_hash, max_value)\n",
    "coeffB = pickRandomCoeffs(num_hash, max_value)"
   ]
  },
  {
   "cell_type": "code",
   "execution_count": 6,
   "metadata": {},
   "outputs": [
    {
     "name": "stdout",
     "output_type": "stream",
     "text": [
      "Index  0 :  21.412058115005493\n",
      "Index  1 :  40.10647368431091\n",
      "Index  2 :  58.611759424209595\n",
      "Index  3 :  77.16710424423218\n",
      "Index  4 :  95.71180391311646\n",
      "Index  5 :  114.34823083877563\n",
      "Index  6 :  133.03998923301697\n",
      "Index  7 :  151.60100173950195\n",
      "Index  8 :  170.2222285270691\n",
      "Index  9 :  188.86503505706787\n"
     ]
    }
   ],
   "source": [
    "# Open file to for signature matrix \n",
    "f = open('../data/signature_matrix_10_hashes.csv', 'w', newline='')\n",
    "writer = csv.writer(f)\n",
    "\n",
    "#Loop through each hash function\n",
    "t0 = time.time()\n",
    "for hash_idx in range(0, num_hash):\n",
    "    \n",
    "     # Calculate hash function value for all indices\n",
    "    hash_value = (((coeffA[hash_idx] * np.array(range(0, max_value)) + coeffB[hash_idx]))) % max_value\n",
    "\n",
    "    # Initialize sigature list\n",
    "    sig_list = []\n",
    "    \n",
    "    # Loop through each hash function\n",
    "    for song in range(0, len(tracks_to_playlist)):\n",
    "\n",
    "        # Find minimum hash value\n",
    "        indexes = tracks_to_playlist[song]\n",
    "        min_idx = np.argmin(hash_value[indexes])\n",
    "        \n",
    "        # Append min hash value to signature list\n",
    "        sig_list.append(hash_value[indexes[min_idx]])\n",
    "        \n",
    "    # Write row to signature matrix\n",
    "    writer.writerow(sig_list)\n",
    "    \n",
    "    # Output status    \n",
    "    if hash_idx % 1 == 0:\n",
    "        print('Index ', hash_idx, ': ', (time.time()-t0))\n",
    "\n",
    "# Close file\n",
    "f.close()"
   ]
  },
  {
   "cell_type": "code",
   "execution_count": null,
   "metadata": {},
   "outputs": [],
   "source": []
  }
 ],
 "metadata": {
  "kernelspec": {
   "display_name": "Python 3",
   "language": "python",
   "name": "python3"
  },
  "language_info": {
   "codemirror_mode": {
    "name": "ipython",
    "version": 3
   },
   "file_extension": ".py",
   "mimetype": "text/x-python",
   "name": "python",
   "nbconvert_exporter": "python",
   "pygments_lexer": "ipython3",
   "version": "3.8.5"
  }
 },
 "nbformat": 4,
 "nbformat_minor": 4
}
