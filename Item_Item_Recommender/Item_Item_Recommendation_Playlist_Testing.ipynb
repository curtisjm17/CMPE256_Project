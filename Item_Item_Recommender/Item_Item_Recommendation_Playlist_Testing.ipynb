{
 "cells": [
  {
   "cell_type": "markdown",
   "metadata": {},
   "source": [
    "## Import Required Libraries"
   ]
  },
  {
   "cell_type": "code",
   "execution_count": 1,
   "metadata": {},
   "outputs": [],
   "source": [
    "import json\n",
    "import time\n",
    "import os\n",
    "import csv\n",
    "import json\n",
    "import numpy as np\n",
    "import pandas as pd\n",
    "import random\n",
    "from itertools import combinations\n",
    "import math\n",
    "import sys\n",
    "import pickle"
   ]
  },
  {
   "cell_type": "markdown",
   "metadata": {},
   "source": [
    "## Load information about Playlist and Tracks"
   ]
  },
  {
   "cell_type": "code",
   "execution_count": 2,
   "metadata": {},
   "outputs": [],
   "source": [
    "t0 = time.time()\n",
    "# Load data matching playlist ID to Track ID\n",
    "df_play_track = pd.read_csv('./data/track_w_playlist_id.csv')\n",
    "\n",
    "# Load file containing the Track names\n",
    "fr = open('./data/tracks_w_names.csv', 'r', encoding=\"utf-8\")\n",
    "reader = csv.reader(fr)\n",
    "track_name = []\n",
    "for row in reader:\n",
    "    track_name.append(row[1])\n",
    "fr.close()"
   ]
  },
  {
   "cell_type": "code",
   "execution_count": 3,
   "metadata": {},
   "outputs": [],
   "source": [
    "# Load file containing candidate pair \n",
    "fr = open(\"./data/candidate_pair_1rows_10bands.pickle\", \"rb\")\n",
    "can_pairs = pickle.load(fr, encoding='bytes')\n",
    "fr.close()\n",
    "\n",
    "# Sort data to make it easier to search\n",
    "can_pairs = can_pairs[can_pairs[:, 0].argsort()]"
   ]
  },
  {
   "cell_type": "markdown",
   "metadata": {},
   "source": [
    "## Define Function to Recommend Tracks"
   ]
  },
  {
   "cell_type": "code",
   "execution_count": 4,
   "metadata": {},
   "outputs": [],
   "source": [
    "def song_recommendation(playlist_track_ids, k, candidate_pairs, track_with_name):\n",
    "    \n",
    "    # Get all similar tracks using candidate pairs\n",
    "    track_ids = np.array([], dtype=int)\n",
    "    for i in playlist_track_ids:\n",
    "        idx_start = np.searchsorted(candidate_pairs[:, 0], i, side='left')\n",
    "        idx_end = np.searchsorted(candidate_pairs[:, 0], i, side='right')\n",
    "        can_track_ids = candidate_pairs[np.array(range(idx_start,idx_end+1)),1]\n",
    "        track_ids = np.append(track_ids, can_track_ids)\n",
    "    \n",
    "    # Get count of number of each recommended track\n",
    "    track_rec_id_count = dict([])\n",
    "    for track in track_ids:\n",
    "        count = track_rec_id_count.get(track, 0)\n",
    "        track_rec_id_count[track] = count + 1\n",
    "    \n",
    "    # Convert track dictionary to list for easier use\n",
    "    track_vs_count = []\n",
    "    for key, value in track_rec_id_count.items():\n",
    "        track_vs_count.append([value, key])\n",
    "    \n",
    "    # Sort track recommendation by suggestion count\n",
    "    track_vs_count.sort(reverse=True)\n",
    "    track_vs_count = np.array(track_vs_count)\n",
    "    \n",
    "    # Return top K results\n",
    "    final_ids = track_vs_count[0:k,1]\n",
    "    track_names = []\n",
    "    for ele in final_ids:\n",
    "        track_names.append(track_with_name[ele])\n",
    "    return track_names\n",
    "    "
   ]
  },
  {
   "cell_type": "markdown",
   "metadata": {},
   "source": [
    "## Playlist Addition Recommedation "
   ]
  },
  {
   "cell_type": "code",
   "execution_count": 229,
   "metadata": {},
   "outputs": [],
   "source": [
    "# Get list of tracks from a specific playlist\n",
    "playlist_track_list = df_play_track[df_play_track['Playlist ID'] == 0][\"Track ID\"].to_list()\n",
    "\n",
    "# Get number of input and test songs from playlist\n",
    "num_input_songs = round(len(playlist_track_list)*0.8)\n",
    "num_test_songs = len(playlist_track_list)-num_input_songs\n",
    "\n",
    "# Get random set of input songs\n",
    "random.shuffle(playlist_track_list)\n",
    "input_songs = []\n",
    "for i in range(0,num_input_songs):\n",
    "    input_songs.append(playlist_track_list.pop())\n",
    "    \n",
    "# Get random set of test songs\n",
    "test_songs = [] \n",
    "for i in range(0,num_test_songs):\n",
    "    test_songs.append(playlist_track_list.pop())\n",
    "\n",
    "# Get song recommendations\n",
    "recom_songs = song_recommendation(input_songs, num_test_songs, can_pairs, track_name)"
   ]
  },
  {
   "cell_type": "code",
   "execution_count": 230,
   "metadata": {},
   "outputs": [
    {
     "name": "stdout",
     "output_type": "stream",
     "text": [
      "Recommendations:\n",
      "Sk8er Boi - Avril Lavigne\n",
      "Promiscuous - Nelly Furtado\n",
      "Eenie Meenie - Justin Bieber\n",
      "Right Now (Na Na Na) - Akon\n",
      "A Thousand Miles - Vanessa Carlton\n",
      "Beautiful Girls - Sean Kingston\n",
      "Nobody's Perfect - Hannah Montana\n",
      "Apologize - OneRepublic\n",
      "Boom Boom Pow - The Black Eyed Peas\n",
      "Fire Burning - Sean Kingston\n",
      "\n",
      "Actual Songs:\n",
      "Run It! - Chris Brown\n",
      "Livin on Sunday - Cris Cab\n",
      "Whatcha Say - Jason Derulo\n",
      "Toxic - Britney Spears\n",
      "Closer - Ne-Yo\n",
      "Forever - Chris Brown\n",
      "Lose Control (feat. Ciara & Fat Man Scoop) - Missy Elliott\n",
      "Jumpin', Jumpin' - Destiny's Child\n",
      "Promiscuous - Nelly Furtado\n",
      "Miss Independent - Ne-Yo\n"
     ]
    }
   ],
   "source": [
    "# Display recommendation songs\n",
    "print('Recommendations:')\n",
    "for i in range(0,num_test_songs):\n",
    "    print(recom_songs[i])\n",
    "    \n",
    "# Display test songs\n",
    "print('\\nActual Songs:')\n",
    "for i in range(0,num_test_songs):\n",
    "    print(track_name[test_songs[i]])"
   ]
  },
  {
   "cell_type": "code",
   "execution_count": null,
   "metadata": {},
   "outputs": [],
   "source": []
  }
 ],
 "metadata": {
  "kernelspec": {
   "display_name": "Python 3",
   "language": "python",
   "name": "python3"
  },
  "language_info": {
   "codemirror_mode": {
    "name": "ipython",
    "version": 3
   },
   "file_extension": ".py",
   "mimetype": "text/x-python",
   "name": "python",
   "nbconvert_exporter": "python",
   "pygments_lexer": "ipython3",
   "version": "3.8.5"
  }
 },
 "nbformat": 4,
 "nbformat_minor": 4
}
