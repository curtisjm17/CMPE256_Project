{
 "cells": [
  {
   "cell_type": "markdown",
   "source": [
    "## Import Required Libraries"
   ],
   "metadata": {}
  },
  {
   "cell_type": "code",
   "execution_count": 1,
   "source": [
    "import json\n",
    "import time\n",
    "import os\n",
    "import csv\n",
    "import json\n",
    "import numpy as np\n",
    "import pandas as pd\n",
    "import random\n",
    "from itertools import combinations\n",
    "import math\n",
    "import sys\n",
    "import pickle\n",
    "import spotipy_api\n",
    "import random"
   ],
   "outputs": [],
   "metadata": {}
  },
  {
   "cell_type": "markdown",
   "source": [
    "## Load information about Playlist and Tracks"
   ],
   "metadata": {}
  },
  {
   "cell_type": "code",
   "execution_count": 2,
   "source": [
    "t0 = time.time()\n",
    "# Load data matching playlist ID to Track ID\n",
    "df_play_track = pd.read_csv('./data/track_w_playlist_id.csv')\n",
    "\n",
    "# Load file containing the Track names\n",
    "fr = open('./data/tracks_w_names.csv', 'r', encoding=\"utf-8\")\n",
    "reader = csv.reader(fr)\n",
    "track_name = []\n",
    "for row in reader:\n",
    "    track_name.append(row[1])\n",
    "fr.close()"
   ],
   "outputs": [],
   "metadata": {}
  },
  {
   "cell_type": "code",
   "execution_count": 3,
   "source": [
    "# Load file containing candidate pair \n",
    "fr = open(\"./data/candidate_pair_1rows_10bands.pickle\", \"rb\")\n",
    "can_pairs = pickle.load(fr, encoding='bytes')\n",
    "fr.close()\n",
    "\n",
    "# Sort data to make it easier to search\n",
    "can_pairs = can_pairs[can_pairs[:, 0].argsort()]"
   ],
   "outputs": [],
   "metadata": {}
  },
  {
   "cell_type": "markdown",
   "source": [
    "## Define Function to Recommend Tracks"
   ],
   "metadata": {}
  },
  {
   "cell_type": "code",
   "execution_count": 4,
   "source": [
    "def song_recommendation(playlist_track_ids, k, candidate_pairs, track_with_name):\n",
    "    # Get all similar tracks using candidate pairs\n",
    "    track_ids = np.array([], dtype=int)\n",
    "    for i in playlist_track_ids:\n",
    "        idx_start = np.searchsorted(candidate_pairs[:, 0], i, side='left')\n",
    "        idx_end = np.searchsorted(candidate_pairs[:, 0], i, side='right')\n",
    "        can_track_ids = candidate_pairs[np.array(range(idx_start,idx_end+1)),1]\n",
    "        track_ids = np.append(track_ids, can_track_ids)\n",
    "    \n",
    "    # Get count of number of each recommended track\n",
    "    track_rec_id_count = dict([])\n",
    "    for track in track_ids:\n",
    "        count = track_rec_id_count.get(track, 0)\n",
    "        track_rec_id_count[track] = count + 1\n",
    "    \n",
    "    # Convert track dictionary to list for easier use\n",
    "    track_vs_count = []\n",
    "    for key, value in track_rec_id_count.items():\n",
    "        track_vs_count.append([value, key])\n",
    "    \n",
    "    # Sort track recommendation by suggestion count\n",
    "    track_vs_count.sort(reverse=True)\n",
    "    track_vs_count = np.array(track_vs_count)\n",
    "    \n",
    "    # Return top K results\n",
    "    final_ids = track_vs_count[0:k,1]\n",
    "    track_names = []\n",
    "    for ele in final_ids:\n",
    "        track_names.append(track_with_name[ele])\n",
    "    return (track_names, final_ids)"
   ],
   "outputs": [],
   "metadata": {}
  },
  {
   "cell_type": "markdown",
   "source": [
    "## Playlist Addition Recommedation "
   ],
   "metadata": {}
  },
  {
   "cell_type": "code",
   "execution_count": 5,
   "source": [
    "# Get list of tracks from a specific playlist\n",
    "playlist_track_list = df_play_track[df_play_track['Playlist ID'] == 0][\"Track ID\"].to_list()\n",
    "\n",
    "# Get number of input and test songs from playlist\n",
    "num_input_songs = round(len(playlist_track_list)*0.8)\n",
    "num_test_songs = len(playlist_track_list)-num_input_songs\n",
    "\n",
    "# Get random set of input songs\n",
    "random.shuffle(playlist_track_list)\n",
    "input_songs = []\n",
    "for i in range(0,num_input_songs):\n",
    "    input_songs.append(playlist_track_list.pop())\n",
    "    \n",
    "# Get random set of test songs\n",
    "test_songs = [] \n",
    "for i in range(0,num_test_songs):\n",
    "    test_songs.append(playlist_track_list.pop())\n",
    "\n",
    "# Get song recommendations\n",
    "recom_songs = song_recommendation(input_songs, num_test_songs, can_pairs, track_name)[0]"
   ],
   "outputs": [],
   "metadata": {}
  },
  {
   "cell_type": "code",
   "execution_count": 6,
   "source": [
    "# Display recommendation songs\n",
    "print('Recommendations:')\n",
    "for i in range(0,num_test_songs):\n",
    "    print(recom_songs[i])\n",
    "    \n",
    "# Display test songs\n",
    "print('\\nActual Songs:')\n",
    "for i in range(0,num_test_songs):\n",
    "    print(track_name[test_songs[i]])"
   ],
   "outputs": [
    {
     "output_type": "stream",
     "name": "stdout",
     "text": [
      "Recommendations:\n",
      "Promiscuous - Nelly Furtado\n",
      "Eenie Meenie - Justin Bieber\n",
      "Right Now (Na Na Na) - Akon\n",
      "Sk8er Boi - Avril Lavigne\n",
      "Apologize - OneRepublic\n",
      "Break Your Heart - Taio Cruz\n",
      "Burnin' Up - Jonas Brothers\n",
      "Down - Jay Sean\n",
      "Fire Burning - Sean Kingston\n",
      "Beautiful Girls - Sean Kingston\n",
      "\n",
      "Actual Songs:\n",
      "Right Where You Want Me - Radio Edit Version - Jesse McCartney\n",
      "Lose Control (feat. Ciara & Fat Man Scoop) - Missy Elliott\n",
      "My Happy Ending - Avril Lavigne\n",
      "Replay - Iyaz\n",
      "Soak Up The Sun - Sheryl Crow\n",
      "Yeah! - Usher\n",
      "Beautiful Soul - Jesse McCartney\n",
      "Ice Box - Omarion\n",
      "Stacy's Mom - Bowling For Soup\n",
      "All The Small Things - blink-182\n"
     ]
    }
   ],
   "metadata": {}
  },
  {
   "cell_type": "code",
   "execution_count": 7,
   "source": [
    "# Spotipy API\n",
    "sp_api = spotipy_api.EasySpotipy()"
   ],
   "outputs": [],
   "metadata": {}
  },
  {
   "cell_type": "code",
   "execution_count": 8,
   "source": [
    "PLAYLIST_SIZE=30\n",
    "INPUT_SIZE=10\n",
    "NUM_SONGS_TO_RECOMMEND=20\n",
    "TOTAL_SONGS_TO_PRINT=max(INPUT_SIZE + NUM_SONGS_TO_RECOMMEND, PLAYLIST_SIZE)\n",
    "\n",
    "random_playlist = sp_api.getRandomPlaylist(min_tracks=PLAYLIST_SIZE, max_tracks=PLAYLIST_SIZE)\n",
    "random_playlist_indices = random_playlist[:,1].tolist()\n",
    "print(f'Random playlist:\\n{random_playlist[:,2]}')"
   ],
   "outputs": [
    {
     "output_type": "stream",
     "name": "stdout",
     "text": [
      "Random playlist:\n",
      "['Somebody Else - The 1975' \"She's Kinda Hot - 5 Seconds of Summer\"\n",
      " 'Heathens - Twenty One Pilots' 'All Time Low - Jon Bellion'\n",
      " 'I Fall Apart - Post Malone' 'Now Or Never - Halsey'\n",
      " 'Ride - Twenty One Pilots' '1-800-273-8255 - Logic, Alessia Cara, Khalid'\n",
      " 'XO Tour Llif3 - Lil Uzi Vert' 'Stressed Out - Twenty One Pilots'\n",
      " 'Pumped Up Kicks - Foster The People' 'goosebumps - Travis Scott'\n",
      " 'Dandelions - Ruth B.'\n",
      " 'Love Galore (feat. Travis Scott) - SZA, Travis Scott'\n",
      " 'Talking Body - Tove Lo' 'Congratulations - Post Malone, Quavo'\n",
      " 'Little Talks - Of Monsters and Men'\n",
      " 'Habits (Stay High) - Hippie Sabotage Remix - Tove Lo, Hippie Sabotage'\n",
      " 'Outside (feat. Ellie Goulding) - Calvin Harris, Ellie Goulding'\n",
      " 'Close - Nick Jonas, Tove Lo' 'Stolen Dance - Milky Chance'\n",
      " 'Gold - Kiiara' 'Poison - Rita Ora' 'Middle - DJ Snake, Bipolar Sunshine'\n",
      " 'There for You - Martin Garrix, Troye Sivan' 'Runaway (U & I) - Galantis'\n",
      " 'Me, Myself & I - G-Eazy, Bebe Rexha'\n",
      " 'Lose Yourself to Dance (feat. Pharrell Williams) - Daft Punk, Pharrell Williams'\n",
      " 'Elastic Heart - Sia' 'Green Light - Lorde']\n"
     ]
    }
   ],
   "metadata": {}
  },
  {
   "cell_type": "code",
   "execution_count": 9,
   "source": [
    "# Randomize songs within playlist\n",
    "random.shuffle(random_playlist_indices)\n",
    "\n",
    "(recom_song_names, recom_song_indices) = song_recommendation(random_playlist_indices[0:INPUT_SIZE], NUM_SONGS_TO_RECOMMEND, can_pairs, track_name)"
   ],
   "outputs": [],
   "metadata": {}
  },
  {
   "cell_type": "code",
   "execution_count": 10,
   "source": [
    "random_playlist_names = []\n",
    "for index in random_playlist_indices:\n",
    "    random_playlist_names.append(track_name[index])\n",
    "\n",
    "print('{:<80}{:^10}{:<80}'.format('Original', '----', 'Recommended'))\n",
    "print('--------------------------------------------------------------------------------------')\n",
    "for i in range(TOTAL_SONGS_TO_PRINT):\n",
    "    if i <= INPUT_SIZE:\n",
    "        print('{:<80}{:^10}{:<80}'.format(track_name[random_playlist_indices[i]], '----', track_name[random_playlist_indices[i]]))\n",
    "    elif i > INPUT_SIZE and i < PLAYLIST_SIZE:\n",
    "        print('{:<80}{:^10}{:<80}'.format(track_name[random_playlist_indices[i]], '----', recom_song_names[i - INPUT_SIZE]))\n",
    "    elif i > PLAYLIST_SIZE:\n",
    "        print('{:<80}{:^10}{:<80}'.format('', '----', recom_song_names[i - INPUT_SIZE]))\n",
    "    if i == INPUT_SIZE:\n",
    "        print(f'\\nInputs above -----------------------------------------------------------\\n')\n",
    "\n",
    "print('Songs in both: ')\n",
    "shared_songs = list(set(recom_song_names).intersection(random_playlist_names))\n",
    "for song in shared_songs:\n",
    "    print(song)"
   ],
   "outputs": [
    {
     "output_type": "stream",
     "name": "stdout",
     "text": [
      "Original                                                                           ----   Recommended                                                                     \n",
      "--------------------------------------------------------------------------------------\n",
      "She's Kinda Hot - 5 Seconds of Summer                                              ----   She's Kinda Hot - 5 Seconds of Summer                                           \n",
      "Somebody Else - The 1975                                                           ----   Somebody Else - The 1975                                                        \n",
      "XO TOUR Llif3 - Lil Uzi Vert                                                       ----   XO TOUR Llif3 - Lil Uzi Vert                                                    \n",
      "Habits (Stay High) - Hippie Sabotage Remix - Tove Lo                               ----   Habits (Stay High) - Hippie Sabotage Remix - Tove Lo                            \n",
      "goosebumps - Travis Scott                                                          ----   goosebumps - Travis Scott                                                       \n",
      "1-800-273-8255 - Logic                                                             ----   1-800-273-8255 - Logic                                                          \n",
      "Love Galore - SZA                                                                  ----   Love Galore - SZA                                                               \n",
      "Close - Nick Jonas                                                                 ----   Close - Nick Jonas                                                              \n",
      "Little Talks - Of Monsters and Men                                                 ----   Little Talks - Of Monsters and Men                                              \n",
      "Poison - Rita Ora                                                                  ----   Poison - Rita Ora                                                               \n",
      "Dandelions - Ruth B.                                                               ----   Dandelions - Ruth B.                                                            \n",
      "\n",
      "Inputs above -----------------------------------------------------------\n",
      "\n",
      "Heathens - Twenty One Pilots                                                       ----   Counting Stars - OneRepublic                                                    \n",
      "I Fall Apart - Post Malone                                                         ----   Sun Is Shining - Axwell /\\ Ingrosso                                             \n",
      "Now Or Never - Halsey                                                              ----   Animal - Miike Snow                                                             \n",
      "Elastic Heart - Sia                                                                ----   When You Were Young - The Killers                                               \n",
      "Outside - Calvin Harris                                                            ----   Gold Digger - Kanye West                                                        \n",
      "Congratulations - Post Malone                                                      ----   Pumped Up Kicks - Foster The People                                             \n",
      "Talking Body - Tove Lo                                                             ----   You Don't Own Me - Grace                                                        \n",
      "Lose Yourself to Dance - Daft Punk                                                 ----   Text Ur Number (feat. DJ Sliink & Fetty Wap) - DJ Envy                          \n",
      "Me, Myself & I - G-Eazy                                                            ----   i hate u, i love u (feat. olivia o'brien) - gnash                               \n",
      "Middle - DJ Snake                                                                  ----   Feels - Calvin Harris                                                           \n",
      "Green Light - Lorde                                                                ----   First Day Out - Tee Grizzley                                                    \n",
      "All Time Low - Jon Bellion                                                         ----   VCR - The xx                                                                    \n",
      "Stressed Out - Twenty One Pilots                                                   ----   Warrior - Bonus Track - Kimbra                                                  \n",
      "Stolen Dance - Milky Chance                                                        ----   1942 Flows - Meek Mill                                                          \n",
      "Pumped Up Kicks - Foster The People                                                ----   Castro - Yo Gotti                                                               \n",
      "There for You - Martin Garrix                                                      ----   Flashed Junk Mind - Milky Chance                                                \n",
      "Ride - Twenty One Pilots                                                           ----   Let’s Go - Matt and Kim                                                         \n",
      "Runaway (U & I) - Galantis                                                         ----   Misunderstood - PnB Rock                                                        \n",
      "Gold - Kiiara                                                                      ----   Black SpiderMan - Logic                                                         \n",
      "Songs in both: \n",
      "Pumped Up Kicks - Foster The People\n"
     ]
    }
   ],
   "metadata": {}
  },
  {
   "cell_type": "code",
   "execution_count": 49,
   "source": [
    "# Spotipy API\n",
    "sp_api = spotipy_api.EasySpotipy()\n",
    "\n",
    "# Create a new playlist\n",
    "original_playlist = sp_api.createNewPlaylist(random_playlist[:,0], 'Original Playlist')\n",
    "\n",
    "# Create playlist with recommendations instead\n",
    "recom_song_ids = [sp_api.getTrackIDFromIndex(idx) for idx in recom_song_indices]\n",
    "new_playlist   = sp_api.createNewPlaylist(random_playlist[0:INPUT_SIZE,0].tolist() + recom_song_ids, 'New Playlist!')"
   ],
   "outputs": [],
   "metadata": {}
  }
 ],
 "metadata": {
  "kernelspec": {
   "name": "python3",
   "display_name": "Python 3.9.7 64-bit ('base': conda)"
  },
  "language_info": {
   "codemirror_mode": {
    "name": "ipython",
    "version": 3
   },
   "file_extension": ".py",
   "mimetype": "text/x-python",
   "name": "python",
   "nbconvert_exporter": "python",
   "pygments_lexer": "ipython3",
   "version": "3.9.7"
  },
  "interpreter": {
   "hash": "4a906f7e0a6bfc22ca7b8bae79ffd3d15475a16f5b4829c6bfd1f11725772ad8"
  }
 },
 "nbformat": 4,
 "nbformat_minor": 4
}