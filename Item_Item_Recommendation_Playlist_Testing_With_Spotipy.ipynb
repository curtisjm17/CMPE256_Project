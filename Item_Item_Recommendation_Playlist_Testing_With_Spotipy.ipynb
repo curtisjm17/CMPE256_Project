{
 "cells": [
  {
   "cell_type": "markdown",
   "source": [
    "## Import Required Libraries"
   ],
   "metadata": {}
  },
  {
   "cell_type": "code",
   "execution_count": 1,
   "source": [
    "import json\n",
    "import time\n",
    "import os\n",
    "import csv\n",
    "import json\n",
    "import numpy as np\n",
    "import pandas as pd\n",
    "import random\n",
    "from itertools import combinations\n",
    "import math\n",
    "import sys\n",
    "import pickle\n",
    "import spotipy_api\n",
    "import random"
   ],
   "outputs": [],
   "metadata": {}
  },
  {
   "cell_type": "markdown",
   "source": [
    "## Load information about Playlist and Tracks"
   ],
   "metadata": {}
  },
  {
   "cell_type": "code",
   "execution_count": 2,
   "source": [
    "t0 = time.time()\n",
    "# Load data matching playlist ID to Track ID\n",
    "df_play_track = pd.read_csv('./data/track_w_playlist_id.csv')\n",
    "\n",
    "# Load file containing the Track names\n",
    "fr = open('./data/tracks_w_names.csv', 'r', encoding=\"utf-8\")\n",
    "reader = csv.reader(fr)\n",
    "track_name = []\n",
    "for row in reader:\n",
    "    track_name.append(row[1])\n",
    "fr.close()"
   ],
   "outputs": [],
   "metadata": {}
  },
  {
   "cell_type": "code",
   "execution_count": 3,
   "source": [
    "# Load file containing candidate pair \n",
    "fr = open(\"./data/candidate_pair_1rows_10bands.pickle\", \"rb\")\n",
    "can_pairs = pickle.load(fr, encoding='bytes')\n",
    "fr.close()\n",
    "\n",
    "# Sort data to make it easier to search\n",
    "can_pairs = can_pairs[can_pairs[:, 0].argsort()]"
   ],
   "outputs": [],
   "metadata": {}
  },
  {
   "cell_type": "markdown",
   "source": [
    "## Define Function to Recommend Tracks"
   ],
   "metadata": {}
  },
  {
   "cell_type": "code",
   "execution_count": 4,
   "source": [
    "def song_recommendation(playlist_track_ids, k, candidate_pairs, track_with_name):\n",
    "    # Get all similar tracks using candidate pairs\n",
    "    track_ids = np.array([], dtype=int)\n",
    "    for i in playlist_track_ids:\n",
    "        idx_start = np.searchsorted(candidate_pairs[:, 0], i, side='left')\n",
    "        idx_end = np.searchsorted(candidate_pairs[:, 0], i, side='right')\n",
    "        can_track_ids = candidate_pairs[np.array(range(idx_start,idx_end+1)),1]\n",
    "        track_ids = np.append(track_ids, can_track_ids)\n",
    "    \n",
    "    # Get count of number of each recommended track\n",
    "    track_rec_id_count = dict([])\n",
    "    for track in track_ids:\n",
    "        count = track_rec_id_count.get(track, 0)\n",
    "        track_rec_id_count[track] = count + 1\n",
    "    \n",
    "    # Convert track dictionary to list for easier use\n",
    "    track_vs_count = []\n",
    "    for key, value in track_rec_id_count.items():\n",
    "        track_vs_count.append([value, key])\n",
    "    \n",
    "    # Sort track recommendation by suggestion count\n",
    "    track_vs_count.sort(reverse=True)\n",
    "    track_vs_count = np.array(track_vs_count)\n",
    "    \n",
    "    # Return top K results\n",
    "    final_ids = track_vs_count[0:k,1]\n",
    "    track_names = []\n",
    "    for ele in final_ids:\n",
    "        track_names.append(track_with_name[ele])\n",
    "    return (track_names, final_ids)"
   ],
   "outputs": [],
   "metadata": {}
  },
  {
   "cell_type": "markdown",
   "source": [
    "## Playlist Addition Recommedation "
   ],
   "metadata": {}
  },
  {
   "cell_type": "code",
   "execution_count": 5,
   "source": [
    "# Get list of tracks from a specific playlist\n",
    "playlist_track_list = df_play_track[df_play_track['Playlist ID'] == 0][\"Track ID\"].to_list()\n",
    "\n",
    "# Get number of input and test songs from playlist\n",
    "num_input_songs = round(len(playlist_track_list)*0.8)\n",
    "num_test_songs = len(playlist_track_list)-num_input_songs\n",
    "\n",
    "# Get random set of input songs\n",
    "random.shuffle(playlist_track_list)\n",
    "input_songs = []\n",
    "for i in range(0,num_input_songs):\n",
    "    input_songs.append(playlist_track_list.pop())\n",
    "    \n",
    "# Get random set of test songs\n",
    "test_songs = [] \n",
    "for i in range(0,num_test_songs):\n",
    "    test_songs.append(playlist_track_list.pop())\n",
    "\n",
    "# Get song recommendations\n",
    "recom_songs = song_recommendation(input_songs, num_test_songs, can_pairs, track_name)[0]"
   ],
   "outputs": [],
   "metadata": {}
  },
  {
   "cell_type": "code",
   "execution_count": 6,
   "source": [
    "# Display recommendation songs\n",
    "print('Recommendations:')\n",
    "for i in range(0,num_test_songs):\n",
    "    print(recom_songs[i])\n",
    "    \n",
    "# Display test songs\n",
    "print('\\nActual Songs:')\n",
    "for i in range(0,num_test_songs):\n",
    "    print(track_name[test_songs[i]])"
   ],
   "outputs": [
    {
     "output_type": "stream",
     "name": "stdout",
     "text": [
      "Recommendations:\n",
      "Sk8er Boi - Avril Lavigne\n",
      "My First Kiss - feat. Ke$ha - 3OH!3\n",
      "Promiscuous - Nelly Furtado\n",
      "Eenie Meenie - Justin Bieber\n",
      "Beautiful Girls - Sean Kingston\n",
      "Right Now (Na Na Na) - Akon\n",
      "Fergalicious - Fergie\n",
      "Apologize - OneRepublic\n",
      "Down - Jay Sean\n",
      "The Sweet Escape - Gwen Stefani\n",
      "\n",
      "Actual Songs:\n",
      "Closer - Ne-Yo\n",
      "Dirty Little Secret - The All-American Rejects\n",
      "Yeah! - Usher\n",
      "Me & U - Cassie\n",
      "Lose Control (feat. Ciara & Fat Man Scoop) - Missy Elliott\n",
      "See You Again - Miley Cyrus\n",
      "Replay - Iyaz\n",
      "Livin on Sunday - Cris Cab\n",
      "Hey Ya! - Radio Mix / Club Mix - OutKast\n",
      "A Thousand Miles - Vanessa Carlton\n"
     ]
    }
   ],
   "metadata": {}
  },
  {
   "cell_type": "code",
   "execution_count": 20,
   "source": [
    "# Spotipy API\n",
    "sp_api = spotipy_api.EasySpotipy()"
   ],
   "outputs": [],
   "metadata": {}
  },
  {
   "cell_type": "code",
   "execution_count": 46,
   "source": [
    "PLAYLIST_SIZE=30\n",
    "INPUT_SIZE=10\n",
    "NUM_SONGS_TO_RECOMMEND=20\n",
    "TOTAL_SONGS_TO_PRINT=max(INPUT_SIZE + NUM_SONGS_TO_RECOMMEND, PLAYLIST_SIZE)\n",
    "\n",
    "random_playlist = sp_api.getRandomPlaylist(min_tracks=PLAYLIST_SIZE, max_tracks=PLAYLIST_SIZE)\n",
    "random_playlist_indices = random_playlist[:,1].tolist()\n",
    "print(f'Random playlist:\\n{random_playlist[:,2]}')"
   ],
   "outputs": [
    {
     "output_type": "stream",
     "name": "stdout",
     "text": [
      "Random playlist:\n",
      "['Do You Want to Build a Snowman? - From \"Frozen\"/Soundtrack Version - Kristen Bell, Agatha Lee Monn, Katie Lopez'\n",
      " 'Let It Go - From \"Frozen\"/Soundtrack Version - Idina Menzel'\n",
      " 'Love Is an Open Door - From \"Frozen\"/Soundtrack Version - Kristen Bell, Santino Fontana'\n",
      " 'One Jump Ahead - Brad Kane, Disney'\n",
      " 'A Whole New World - Lea Salonga, Brad Kane, Disney'\n",
      " 'For the First Time in Forever - From \"Frozen\"/Soundtrack Version - Kristen Bell, Idina Menzel'\n",
      " 'Arabian Nights - Bruce Adler, Disney' \"You're Welcome - Dwayne Johnson\"\n",
      " 'Mine, Mine, Mine - From \"Pocahontas\"/Soundtrack Version - David Ogden Stiers, Mel Gibson'\n",
      " 'You\\'ve Got a Friend in Me - From \"Toy Story\"/Soundtrack Version - Randy Newman'\n",
      " 'On My Way - From \"Brother Bear\"/Soundtrack Version - Phil Collins'\n",
      " 'Hawaiian Roller Coaster Ride - From \"Lilo & Stitch\"/Soundtrack Version - Mark Keali\\'i Ho\\'omalu, Kamehameha Schools Children\\'s Chorus'\n",
      " 'Honor To Us All - Lea Salonga, Beth Fowler, Marni Nixon, Chorus - Mulan, Disney'\n",
      " \"I'll Make a Man Out of You - Donny Osmond, Chorus - Mulan, Disney\"\n",
      " 'Go the Distance - Roger Bart'\n",
      " 'Colors of the Wind - From \"Pocahontas\" / Soundtrack Version - Judy Kuhn'\n",
      " 'Just Around the Riverbend - From \"Pocahontas\" / Soundtrack Version - Judy Kuhn'\n",
      " 'Under the Sea - Samuel E. Wright, Disney'\n",
      " 'I See the Light - From \"Tangled\" / Soundtrack Version - Mandy Moore, Zachary Levi'\n",
      " 'I\\'ve Got a Dream - From \"Tangled\"/Soundtrack Version - Mandy Moore, Brad Garrett, Ensemble - Tangled, Zachary Levi, Jeffrey Tambor'\n",
      " 'Mother Knows Best - From \"Tangled\"/Soundtrack Version - Donna Murphy'\n",
      " 'When Will My Life Begin? - From \"Tangled\" / Soundtrack Version - Mandy Moore'\n",
      " 'Beauty and the Beast - From \"Beauty and the Beast\" / Soundtrack Version - Angela Lansbury, Disney'\n",
      " 'Something There - From \"Beauty and the Beast\"/Soundtrack Version - Robby Benson, Jerry Orbach, Paige O\\'Hara, Angela Lansbury, David Ogden Stiers, Disney'\n",
      " 'Be Our Guest - From \"Beauty and the Beast\"/Soundtrack - Angela Lansbury, Jerry Orbach, Chorus - Beauty And the Beast, Disney'\n",
      " 'Gaston - From \"Beauty and the Beast\" / Soundtrack Version - Richard White, Jesse Corti, Chorus - Beauty And the Beast, Disney'\n",
      " 'Can You Feel the Love Tonight - From \"The Lion King\" / Soundtrack Version - Joseph Williams, Sally Dworsky, Nathan Lane, Ernie Sabella, Kristle Edwards'\n",
      " 'Hakuna Matata - From \"The Lion King\"/Soundtrack - Nathan Lane, Ernie Sabella, Jason Weaver, Joseph Williams'\n",
      " 'Be Prepared - From \"The Lion King\" / Soundtrack Version - Jeremy Irons, Whoopi Goldberg, Cheech Marin, Jim Cummings'\n",
      " 'I Just Can\\'t Wait to Be King - From \"The Lion King\"/Soundtrack Version - Jason Weaver, Rowan Atkinson, Laura Williams']\n"
     ]
    }
   ],
   "metadata": {}
  },
  {
   "cell_type": "code",
   "execution_count": 47,
   "source": [
    "# Randomize songs within playlist\n",
    "random.shuffle(random_playlist_indices)\n",
    "\n",
    "(recom_song_names, recom_song_indices) = song_recommendation(random_playlist_indices[0:INPUT_SIZE], NUM_SONGS_TO_RECOMMEND, can_pairs, track_name)"
   ],
   "outputs": [],
   "metadata": {}
  },
  {
   "cell_type": "code",
   "execution_count": 52,
   "source": [
    "random_playlist_names = []\n",
    "for index in random_playlist_indices:\n",
    "    random_playlist_names.append(track_name[index])\n",
    "\n",
    "print('{:<80}{:^10}{:<80}'.format('Original', '----', 'Recommended'))\n",
    "print('--------------------------------------------------------------------------------------')\n",
    "for i in range(TOTAL_SONGS_TO_PRINT):\n",
    "    if i <= INPUT_SIZE:\n",
    "        print('{:<80}{:^10}{:<80}'.format(track_name[random_playlist_indices[i]], '----', track_name[random_playlist_indices[i]]))\n",
    "    elif i > INPUT_SIZE and i < PLAYLIST_SIZE:\n",
    "        print('{:<80}{:^10}{:<80}'.format(track_name[random_playlist_indices[i]], '----', recom_song_names[i - INPUT_SIZE]))\n",
    "    elif i > PLAYLIST_SIZE:\n",
    "        print('{:<80}{:^10}{:<80}'.format('', '----', recom_song_names[i - INPUT_SIZE]))\n",
    "    if i == INPUT_SIZE:\n",
    "        print(f'\\nInputs above -----------------------------------------------------------\\n')\n",
    "\n",
    "print('Songs in both: ')\n",
    "shared_songs = list(set(recom_song_names).intersection(random_playlist_names))\n",
    "for song in shared_songs:\n",
    "    print(song)"
   ],
   "outputs": [
    {
     "output_type": "stream",
     "name": "stdout",
     "text": [
      "Original                                                                           ----   Recommended                                                                     \n",
      "--------------------------------------------------------------------------------------\n",
      "Honor To Us All - From \"Mulan\"/Soundtrack - Beth Fowler                            ----   Honor To Us All - From \"Mulan\"/Soundtrack - Beth Fowler                         \n",
      "Beauty and the Beast - Angela Lansbury                                             ----   Beauty and the Beast - Angela Lansbury                                          \n",
      "Under the Sea - From \"The Little Mermaid\"/ Soundtrack Version - Samuel E. Wright   ----   Under the Sea - From \"The Little Mermaid\"/ Soundtrack Version - Samuel E. Wright\n",
      "One Jump Ahead - Brad Kane                                                         ----   One Jump Ahead - Brad Kane                                                      \n",
      "You're Welcome - Dwayne Johnson                                                    ----   You're Welcome - Dwayne Johnson                                                 \n",
      "Gaston - From \"Beauty and the Beast\" / Soundtrack Version - Richard White          ----   Gaston - From \"Beauty and the Beast\" / Soundtrack Version - Richard White       \n",
      "Go the Distance - From \"Hercules\"/Soundtrack - Roger Bart                          ----   Go the Distance - From \"Hercules\"/Soundtrack - Roger Bart                       \n",
      "I Just Can't Wait to Be King - From \"The Lion King\"/Soundtrack Version - Jason Weaver   ----   I Just Can't Wait to Be King - From \"The Lion King\"/Soundtrack Version - Jason Weaver\n",
      "I See the Light - From \"Tangled\"/Soundtrack Version - Mandy Moore                  ----   I See the Light - From \"Tangled\"/Soundtrack Version - Mandy Moore               \n",
      "Arabian Nights - Bruce Adler                                                       ----   Arabian Nights - Bruce Adler                                                    \n",
      "A Whole New World - Lea Salonga                                                    ----   A Whole New World - Lea Salonga                                                 \n",
      "\n",
      "Inputs above -----------------------------------------------------------\n",
      "\n",
      "Be Our Guest - From \"Beauty and the Beast\"/Soundtrack - Angela Lansbury            ----   Kiss the Girl - From \"The Little Mermaid\"/Soundtrack Version - Samuel E. Wright \n",
      "Something There - Robby Benson                                                     ----   You'll Be In My Heart - Phil Collins                                            \n",
      "Colors Of The Wind - Judy Kuhn                                                     ----   Love Is an Open Door - Kristen Bell                                             \n",
      "Do You Want to Build a Snowman? - Kristen Bell                                     ----   I've Got a Dream - From \"Tangled\"/Soundtrack Version - Mandy Moore              \n",
      "Let It Go - From \"Frozen\"/Soundtrack Version - Idina Menzel                        ----   Mother Knows Best - From \"Tangled\"/Soundtrack Version - Donna Murphy            \n",
      "For the First Time in Forever - Kristen Bell                                       ----   When Will My Life Begin - From \"Tangled\"/Soundtrack Version - Mandy Moore       \n",
      "Be Prepared - From \"The Lion King\" / Soundtrack Version - Jeremy Irons             ----   Something There - Robby Benson                                                  \n",
      "On My Way - Phil Collins                                                           ----   One Jump Ahead - Brad Kane                                                      \n",
      "When Will My Life Begin - From \"Tangled\"/Soundtrack Version - Mandy Moore          ----   Do You Want to Build a Snowman? - Kristen Bell                                  \n",
      "Hakuna Matata - Nathan Lane                                                        ----   Strangers Like Me - Phil Collins                                                \n",
      "Mother Knows Best - From \"Tangled\"/Soundtrack Version - Donna Murphy               ----   Be Our Guest - From \"Beauty and the Beast\"/Soundtrack - Angela Lansbury         \n",
      "Just Around The Riverbend - Judy Kuhn                                              ----   I Won't Say (I'm in Love) - Lillias White                                       \n",
      "Can You Feel The Love Tonight - Joseph Williams                                    ----   Something That I Want - Grace Potter                                            \n",
      "Hawaiian Roller Coaster Ride - From \"Lilo & Stitch\"/Soundtrack Version - M. Keali'i Ho'omalu   ----   Almost There - Anika Noni Rose                                                  \n",
      "I've Got a Dream - From \"Tangled\"/Soundtrack Version - Mandy Moore                 ----   美女と野獣 - Ariana Grande                                                           \n",
      "You've Got A Friend In Me - From \"Toy Story\"/ Soundtrack - Randy Newman            ----   Zero To Hero - Chorus - Hercules                                                \n",
      "Love Is an Open Door - Kristen Bell                                                ----   Just Around The Riverbend - Judy Kuhn                                           \n",
      "Mine, Mine, Mine - From \"Pocahontas\" / Soundtrack Version - Mel Gibson             ----   Belle - Chorus - Beauty And the Beast                                           \n",
      "I'll Make a Man Out of You - From \"Mulan\"/Soundtrack - Donny Osmond                ----   Part of Your World - From \"The Little Mermaid\"/ Soundtrack Version - Jodi Benson\n",
      "Songs in both: \n",
      "Do You Want to Build a Snowman? - Kristen Bell\n",
      "When Will My Life Begin - From \"Tangled\"/Soundtrack Version - Mandy Moore\n",
      "One Jump Ahead - Brad Kane\n",
      "I've Got a Dream - From \"Tangled\"/Soundtrack Version - Mandy Moore\n",
      "Something There - Robby Benson\n",
      "Be Our Guest - From \"Beauty and the Beast\"/Soundtrack - Angela Lansbury\n",
      "Mother Knows Best - From \"Tangled\"/Soundtrack Version - Donna Murphy\n",
      "Love Is an Open Door - Kristen Bell\n",
      "Just Around The Riverbend - Judy Kuhn\n"
     ]
    }
   ],
   "metadata": {}
  },
  {
   "cell_type": "code",
   "execution_count": 39,
   "source": [
    "# Create a new playlist\n",
    "original_playlist = sp_api.createNewPlaylist(random_playlist[:,0], 'Original Playlist')\n",
    "\n",
    "# Create playlist with recommendations instead\n",
    "recom_song_ids = [sp_api.getTrackIDFromIndex(idx) for idx in recom_song_indices]\n",
    "new_playlist   = sp_api.createNewPlaylist(recom_song_ids + random_playlist[0:INPUT_SIZE,0].tolist(), 'New Playlist!')"
   ],
   "outputs": [],
   "metadata": {}
  }
 ],
 "metadata": {
  "kernelspec": {
   "name": "python3",
   "display_name": "Python 3.9.7 64-bit ('base': conda)"
  },
  "language_info": {
   "codemirror_mode": {
    "name": "ipython",
    "version": 3
   },
   "file_extension": ".py",
   "mimetype": "text/x-python",
   "name": "python",
   "nbconvert_exporter": "python",
   "pygments_lexer": "ipython3",
   "version": "3.9.7"
  },
  "interpreter": {
   "hash": "4a906f7e0a6bfc22ca7b8bae79ffd3d15475a16f5b4829c6bfd1f11725772ad8"
  }
 },
 "nbformat": 4,
 "nbformat_minor": 4
}