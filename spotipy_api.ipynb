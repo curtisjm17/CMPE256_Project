{
 "cells": [
  {
   "cell_type": "code",
   "execution_count": 1,
   "source": [
    "import spotipy_api\n",
    "import pickle\n",
    "import pandas as pd"
   ],
   "outputs": [],
   "metadata": {}
  },
  {
   "cell_type": "code",
   "execution_count": 9,
   "source": [
    "# # Candidate Pairs\n",
    "# PICKLE_DIR='candidate_pair_1rows_10bands/candidate_pair_1rows_10bands.pickle'\n",
    "\n",
    "# with open(PICKLE_DIR, 'rb') as f:\n",
    "#     can_pairs = pickle.load(f, encoding='bytes')\n",
    "\n",
    "# print(can_pairs[0:10])\n",
    "# can_pairs = can_pairs[can_pairs[:, 0].argsort()]\n",
    "# print(can_pairs[0:10])"
   ],
   "outputs": [],
   "metadata": {}
  },
  {
   "cell_type": "code",
   "execution_count": 2,
   "source": [
    "# Index - Track ID mapping\n",
    "track_id_map = pd.read_csv('data/tracks.csv', header=None, names=['index', 'ID'])"
   ],
   "outputs": [],
   "metadata": {}
  },
  {
   "cell_type": "code",
   "execution_count": 44,
   "source": [
    "sp_api = spotipy_api.EasySpotipy()\n",
    "playlist = sp_api.getRandomPlaylist()\n",
    "print(playlist)"
   ],
   "outputs": [
    {
     "output_type": "stream",
     "name": "stdout",
     "text": [
      "Processing the playlist Rap Hits (2010 - 2022)\n",
      "['2ZRo7axmMPeSVUvDbGkJah', '78QR3Wp35dqAhFEc2qAGjE', '77EWUdr2IdohxboytZDNcR', '3LnpBazWpD31QMTn6LgVGv', '2BcMwX1MPV6ZHP4tUT9uq6', '6uFn47ACjqYkc0jADwEdj1', '1ZAyjvIk9YiD76yYy0TEG6', '2BsGv2MCYiES9rQ3uECERU', '4A8cWXxKfIL3lAyUDzXbCF', '4qKcDkK6siZ7Jp1Jb4m0aL', '1wJRveJZLSb1rjhnUHQiv6', '6vxrpaYbuVjC1oXbodAOEB', '4S8d14HvHb70ImctNgVzQQ', '7FGdjbZ32vMybPuP0IuE7d', '285pBltuF7vW8TeWk8hdRR', '6Gg1gjgKi2AK4e0qzsR7sd', '29TPjc8wxfz4XMn21O7VsZ', '0RbW8kWozrVSIGb4V13o0o', '3oh6SCCeLuXhFpEyepla6G', '7nc7mlSdWYeFom84zZ8Wr8', '3j84U36KvLeXNDPv4t5pI8', '7fEoXCZTZFosUFvFQg1BmW', '27NovPIUIRrOZoCHxABJwK', '5PTG6rrL6EPFD9E2QMI2pl', '1tkg4EHVoqnhR6iFEXb60y', '7eBqSVxrzQZtK2mmgRG6lC', '1fewSx2d5KIZ04wsooEBOz', '2cYqizR4lgvp4Qu6IQ3qGN', '0k1WUmIRnG3xU6fvvDVfRG', '5BJMeoCXXgbRAWfp6fTulr', '6nO3tr47nr2P7f3hXb8JIo', '5gQcxYXqnofyocKgEbGYKt', '4HbiCvH1R7mVOJ7KY7JQBD', '2BJSMvOGABRxokHKB0OI8i', '3eekarcy7kvN4yt5ZFzltW', '2DQ1ITjI0YoLFzuADN1ZBW', '7hxHWCCAIIxFLCzvDgnQHX', '5GLW3IBX8Nhsup4bBLyGxa', '7oJrVhiTPZGBXWPwhxjy9S', '6n4U3TlzUGhdSFbUUhTvLP', '0e7ipj03S05BNilyu5bRzt', '0PvFJmanyNQMseIFrU708S', '3QFInJAm9eyaho5vBzxInN', '3ee8Jmje8o58CHK66QrVC2', '44sYqNBttbXNxya33FJ3Dj', '29ZXwWOOLz9t5fa3eT3i7T', '1VLtjHwRWOVJiE5Py7JxoQ', '5FkoSXiJPKTNyYgALRJFhD', '2BITQ360Knh6qNAOqR7Dyq', '22An65gG31JLf9n18qjdhZ', '60SdxE8apGAxMiRrpbmLY0', '7dt6x5M1jzdTEt8oCbisTK', '2EgB4n6XyBsuNUbuarr4eG', '1t9WgS8FN0534tLBRwbaxO', '0ZLuW8uOXdFNWcI40C0OC2', '7xQAfvXzm3AkraOtGPWIZg', '1SC5rEoYDGUK4NfG82494W', '1xzBco0xcoJEDXktl7Jxrr', '431dK0LJEvFi2KtmSK5HPX', '3wGXyJGsCf1myH5MooQIqE', '0dSIrRkA4PadGll16TgbnV']\n"
     ]
    }
   ],
   "metadata": {}
  },
  {
   "cell_type": "code",
   "execution_count": 40,
   "source": [
    "len(playlist)\n",
    "new_playlist = [track_id_map[track_id_map.ID == track_id] for track_id in playlist if not track_id_map[track_id_map.ID == track_id].empty]"
   ],
   "outputs": [],
   "metadata": {}
  },
  {
   "cell_type": "code",
   "execution_count": 41,
   "source": [
    "print(new_playlist)"
   ],
   "outputs": [
    {
     "output_type": "stream",
     "name": "stdout",
     "text": [
      "[]\n"
     ]
    }
   ],
   "metadata": {}
  },
  {
   "cell_type": "code",
   "execution_count": 22,
   "source": [
    "# test_p = []\n",
    "# for track_id in playlist:\n",
    "#     test_p.append(track_id_map[track_id])\n",
    "retval = track_id_map[track_id_map.ID == '2xsFQqgLKbYZNUVsbxtwpo']\n",
    "for track_id in playlist:\n",
    "    index = track_id_map[track_id_map.ID == track_id]\n",
    "    if not index.empty:\n",
    "        print(index)"
   ],
   "outputs": [],
   "metadata": {}
  },
  {
   "cell_type": "code",
   "execution_count": 24,
   "source": [
    "found_playlist=False\n",
    "num_searches = 0\n",
    "while not found_playlist:\n",
    "    num_searches += 1 \n",
    "    print(f'Search #{num_searches}')\n",
    "    playlist = sp_api.getRandomPlaylist()\n",
    "    for track_id in playlist:\n",
    "        index = track_id_map[track_id_map.ID == track_id]\n",
    "        if not index.empty:\n",
    "            print(f'We found a single track ID that is in the track_id map! {index}')\n"
   ],
   "outputs": [
    {
     "output_type": "stream",
     "name": "stdout",
     "text": [
      "Search #1\n",
      "Processing the playlist Party Hits 2000s\n",
      "Processing the playlist Pa' Pistear\n",
      "Search #2\n",
      "Processing the playlist All Out 2010s\n",
      "Search #3\n",
      "Processing the playlist This Is Quinn XCII\n",
      "Search #4\n",
      "Processing the playlist Work From Home\n",
      "Search #5\n",
      "Processing the playlist La Reina: Éxitos del Regional Mexicano\n",
      "Search #6\n",
      "Processing the playlist Feelin' Good\n",
      "Search #7\n",
      "Processing the playlist Rookie Cops (너와 나의 경찰수업)\n",
      "Search #8\n",
      "Processing the playlist Feelin' Good\n",
      "Search #9\n",
      "Processing the playlist MANSIÓN REGGAETÓN\n",
      "Search #10\n",
      "Processing the playlist Locked In\n",
      "Search #11\n",
      "Processing the playlist PAW Patrol Hörspiele\n",
      "Search #12\n",
      "Processing the playlist New Music Friday Latin\n",
      "Search #13\n",
      "Processing the playlist Wake Up Happy\n",
      "Search #14\n",
      "Processing the playlist K-Pop ON! (온)\n",
      "Search #15\n",
      "Processing the playlist Bass Boosted BangerS 🔥💥😈\n",
      "Search #16\n",
      "Processing the playlist Hot Hits USA\n",
      "Search #17\n",
      "Processing the playlist All New Indie\n",
      "Search #18\n",
      "Processing the playlist Women of Worship\n",
      "Search #19\n",
      "Processing the playlist Country Coffeehouse\n",
      "Search #20\n",
      "Processing the playlist Zelda Lofi & Chill\n",
      "Search #21\n",
      "Processing the playlist Zumba 2022 🔅 Musica Para Bailar\n",
      "Search #22\n",
      "Processing the playlist Queercore\n",
      "Search #23\n",
      "Processing the playlist Calming Instrumental Covers\n",
      "Search #24\n",
      "Processing the playlist kevin gates all songs\n",
      "Search #25\n",
      "Processing the playlist Vietnam War Era Music\n",
      "Processing the playlist Video Game Soundtracks\n",
      "Search #26\n",
      "Processing the playlist COBRAH's track IDs\n",
      "Search #27\n",
      "Processing the playlist MANSIÓN REGGAETÓN\n",
      "Search #28\n",
      "Processing the playlist Alternative R&B\n",
      "Search #29\n",
      "Processing the playlist This Is KAROL G\n",
      "Search #30\n",
      "Processing the playlist Lullaby Jazz\n",
      "Search #31\n",
      "Processing the playlist Bass Boosted BangerS 🔥💥😈\n",
      "Search #32\n",
      "Processing the playlist Workout Twerkout\n",
      "Search #33\n"
     ]
    },
    {
     "output_type": "stream",
     "name": "stderr",
     "text": [
      "HTTP Error for GET to https://api.spotify.com/v1/search?query=%25d&type=playlist&offset=997&limit=10 with Params: {} returned 404 due to Not found.\n"
     ]
    },
    {
     "output_type": "error",
     "ename": "SpotifyException",
     "evalue": "http status: 404, code:-1 - https://api.spotify.com/v1/search?query=%25d&type=playlist&offset=997&limit=10:\n Not found., reason: None",
     "traceback": [
      "\u001b[1;31m---------------------------------------------------------------------------\u001b[0m",
      "\u001b[1;31mHTTPError\u001b[0m                                 Traceback (most recent call last)",
      "\u001b[1;32m~\\anaconda3\\lib\\site-packages\\spotipy\\client.py\u001b[0m in \u001b[0;36m_internal_call\u001b[1;34m(self, method, url, payload, params)\u001b[0m\n\u001b[0;32m    244\u001b[0m \u001b[1;33m\u001b[0m\u001b[0m\n\u001b[1;32m--> 245\u001b[1;33m             \u001b[0mresponse\u001b[0m\u001b[1;33m.\u001b[0m\u001b[0mraise_for_status\u001b[0m\u001b[1;33m(\u001b[0m\u001b[1;33m)\u001b[0m\u001b[1;33m\u001b[0m\u001b[1;33m\u001b[0m\u001b[0m\n\u001b[0m\u001b[0;32m    246\u001b[0m             \u001b[0mresults\u001b[0m \u001b[1;33m=\u001b[0m \u001b[0mresponse\u001b[0m\u001b[1;33m.\u001b[0m\u001b[0mjson\u001b[0m\u001b[1;33m(\u001b[0m\u001b[1;33m)\u001b[0m\u001b[1;33m\u001b[0m\u001b[1;33m\u001b[0m\u001b[0m\n",
      "\u001b[1;32m~\\anaconda3\\lib\\site-packages\\requests\\models.py\u001b[0m in \u001b[0;36mraise_for_status\u001b[1;34m(self)\u001b[0m\n\u001b[0;32m    952\u001b[0m         \u001b[1;32mif\u001b[0m \u001b[0mhttp_error_msg\u001b[0m\u001b[1;33m:\u001b[0m\u001b[1;33m\u001b[0m\u001b[1;33m\u001b[0m\u001b[0m\n\u001b[1;32m--> 953\u001b[1;33m             \u001b[1;32mraise\u001b[0m \u001b[0mHTTPError\u001b[0m\u001b[1;33m(\u001b[0m\u001b[0mhttp_error_msg\u001b[0m\u001b[1;33m,\u001b[0m \u001b[0mresponse\u001b[0m\u001b[1;33m=\u001b[0m\u001b[0mself\u001b[0m\u001b[1;33m)\u001b[0m\u001b[1;33m\u001b[0m\u001b[1;33m\u001b[0m\u001b[0m\n\u001b[0m\u001b[0;32m    954\u001b[0m \u001b[1;33m\u001b[0m\u001b[0m\n",
      "\u001b[1;31mHTTPError\u001b[0m: 404 Client Error: Not Found for url: https://api.spotify.com/v1/search?query=%25d&type=playlist&offset=997&limit=10",
      "\nDuring handling of the above exception, another exception occurred:\n",
      "\u001b[1;31mSpotifyException\u001b[0m                          Traceback (most recent call last)",
      "\u001b[1;32m~\\AppData\\Local\\Temp/ipykernel_23344/98801842.py\u001b[0m in \u001b[0;36m<module>\u001b[1;34m\u001b[0m\n\u001b[0;32m      4\u001b[0m     \u001b[0mnum_searches\u001b[0m \u001b[1;33m+=\u001b[0m \u001b[1;36m1\u001b[0m\u001b[1;33m\u001b[0m\u001b[1;33m\u001b[0m\u001b[0m\n\u001b[0;32m      5\u001b[0m     \u001b[0mprint\u001b[0m\u001b[1;33m(\u001b[0m\u001b[1;34mf'Search #{num_searches}'\u001b[0m\u001b[1;33m)\u001b[0m\u001b[1;33m\u001b[0m\u001b[1;33m\u001b[0m\u001b[0m\n\u001b[1;32m----> 6\u001b[1;33m     \u001b[0mplaylist\u001b[0m \u001b[1;33m=\u001b[0m \u001b[0msp_api\u001b[0m\u001b[1;33m.\u001b[0m\u001b[0mgetRandomPlaylist\u001b[0m\u001b[1;33m(\u001b[0m\u001b[1;33m)\u001b[0m\u001b[1;33m\u001b[0m\u001b[1;33m\u001b[0m\u001b[0m\n\u001b[0m\u001b[0;32m      7\u001b[0m     \u001b[1;32mfor\u001b[0m \u001b[0mtrack_id\u001b[0m \u001b[1;32min\u001b[0m \u001b[0mplaylist\u001b[0m\u001b[1;33m:\u001b[0m\u001b[1;33m\u001b[0m\u001b[1;33m\u001b[0m\u001b[0m\n\u001b[0;32m      8\u001b[0m         \u001b[0mindex\u001b[0m \u001b[1;33m=\u001b[0m \u001b[0mtrack_id_map\u001b[0m\u001b[1;33m[\u001b[0m\u001b[0mtrack_id_map\u001b[0m\u001b[1;33m.\u001b[0m\u001b[0mID\u001b[0m \u001b[1;33m==\u001b[0m \u001b[0mtrack_id\u001b[0m\u001b[1;33m]\u001b[0m\u001b[1;33m\u001b[0m\u001b[1;33m\u001b[0m\u001b[0m\n",
      "\u001b[1;32md:\\Users\\Ben\\repos\\CMPE256_Project\\spotipy_api.py\u001b[0m in \u001b[0;36mgetRandomPlaylist\u001b[1;34m(self, min_tracks, market)\u001b[0m\n\u001b[0;32m     51\u001b[0m \u001b[1;33m\u001b[0m\u001b[0m\n\u001b[0;32m     52\u001b[0m             \u001b[1;32mwhile\u001b[0m \u001b[0mlen\u001b[0m\u001b[1;33m(\u001b[0m\u001b[0mtracklist\u001b[0m\u001b[1;33m)\u001b[0m \u001b[1;33m<\u001b[0m \u001b[0mmin_tracks\u001b[0m \u001b[1;32mand\u001b[0m \u001b[0mplaylists\u001b[0m\u001b[1;33m[\u001b[0m\u001b[1;34m'next'\u001b[0m\u001b[1;33m]\u001b[0m\u001b[1;33m:\u001b[0m\u001b[1;33m\u001b[0m\u001b[1;33m\u001b[0m\u001b[0m\n\u001b[1;32m---> 53\u001b[1;33m                 \u001b[0mplaylists\u001b[0m \u001b[1;33m=\u001b[0m \u001b[0mself\u001b[0m\u001b[1;33m.\u001b[0m\u001b[0msp_\u001b[0m\u001b[1;33m.\u001b[0m\u001b[0mnext\u001b[0m\u001b[1;33m(\u001b[0m\u001b[0mplaylists\u001b[0m\u001b[1;33m)\u001b[0m\u001b[1;33m[\u001b[0m\u001b[1;34m'playlists'\u001b[0m\u001b[1;33m]\u001b[0m\u001b[1;33m\u001b[0m\u001b[1;33m\u001b[0m\u001b[0m\n\u001b[0m\u001b[0;32m     54\u001b[0m                 \u001b[1;32mfor\u001b[0m \u001b[0mplaylist\u001b[0m \u001b[1;32min\u001b[0m \u001b[0mplaylists\u001b[0m\u001b[1;33m[\u001b[0m\u001b[1;34m'items'\u001b[0m\u001b[1;33m]\u001b[0m\u001b[1;33m:\u001b[0m\u001b[1;33m\u001b[0m\u001b[1;33m\u001b[0m\u001b[0m\n\u001b[0;32m     55\u001b[0m                     \u001b[1;31m# print(f\"Processing the playlist {playlist['name']}\")\u001b[0m\u001b[1;33m\u001b[0m\u001b[1;33m\u001b[0m\u001b[0m\n",
      "\u001b[1;32m~\\anaconda3\\lib\\site-packages\\spotipy\\client.py\u001b[0m in \u001b[0;36mnext\u001b[1;34m(self, result)\u001b[0m\n\u001b[0;32m    319\u001b[0m         \"\"\"\n\u001b[0;32m    320\u001b[0m         \u001b[1;32mif\u001b[0m \u001b[0mresult\u001b[0m\u001b[1;33m[\u001b[0m\u001b[1;34m\"next\"\u001b[0m\u001b[1;33m]\u001b[0m\u001b[1;33m:\u001b[0m\u001b[1;33m\u001b[0m\u001b[1;33m\u001b[0m\u001b[0m\n\u001b[1;32m--> 321\u001b[1;33m             \u001b[1;32mreturn\u001b[0m \u001b[0mself\u001b[0m\u001b[1;33m.\u001b[0m\u001b[0m_get\u001b[0m\u001b[1;33m(\u001b[0m\u001b[0mresult\u001b[0m\u001b[1;33m[\u001b[0m\u001b[1;34m\"next\"\u001b[0m\u001b[1;33m]\u001b[0m\u001b[1;33m)\u001b[0m\u001b[1;33m\u001b[0m\u001b[1;33m\u001b[0m\u001b[0m\n\u001b[0m\u001b[0;32m    322\u001b[0m         \u001b[1;32melse\u001b[0m\u001b[1;33m:\u001b[0m\u001b[1;33m\u001b[0m\u001b[1;33m\u001b[0m\u001b[0m\n\u001b[0;32m    323\u001b[0m             \u001b[1;32mreturn\u001b[0m \u001b[1;32mNone\u001b[0m\u001b[1;33m\u001b[0m\u001b[1;33m\u001b[0m\u001b[0m\n",
      "\u001b[1;32m~\\anaconda3\\lib\\site-packages\\spotipy\\client.py\u001b[0m in \u001b[0;36m_get\u001b[1;34m(self, url, args, payload, **kwargs)\u001b[0m\n\u001b[0;32m    295\u001b[0m             \u001b[0mkwargs\u001b[0m\u001b[1;33m.\u001b[0m\u001b[0mupdate\u001b[0m\u001b[1;33m(\u001b[0m\u001b[0margs\u001b[0m\u001b[1;33m)\u001b[0m\u001b[1;33m\u001b[0m\u001b[1;33m\u001b[0m\u001b[0m\n\u001b[0;32m    296\u001b[0m \u001b[1;33m\u001b[0m\u001b[0m\n\u001b[1;32m--> 297\u001b[1;33m         \u001b[1;32mreturn\u001b[0m \u001b[0mself\u001b[0m\u001b[1;33m.\u001b[0m\u001b[0m_internal_call\u001b[0m\u001b[1;33m(\u001b[0m\u001b[1;34m\"GET\"\u001b[0m\u001b[1;33m,\u001b[0m \u001b[0murl\u001b[0m\u001b[1;33m,\u001b[0m \u001b[0mpayload\u001b[0m\u001b[1;33m,\u001b[0m \u001b[0mkwargs\u001b[0m\u001b[1;33m)\u001b[0m\u001b[1;33m\u001b[0m\u001b[1;33m\u001b[0m\u001b[0m\n\u001b[0m\u001b[0;32m    298\u001b[0m \u001b[1;33m\u001b[0m\u001b[0m\n\u001b[0;32m    299\u001b[0m     \u001b[1;32mdef\u001b[0m \u001b[0m_post\u001b[0m\u001b[1;33m(\u001b[0m\u001b[0mself\u001b[0m\u001b[1;33m,\u001b[0m \u001b[0murl\u001b[0m\u001b[1;33m,\u001b[0m \u001b[0margs\u001b[0m\u001b[1;33m=\u001b[0m\u001b[1;32mNone\u001b[0m\u001b[1;33m,\u001b[0m \u001b[0mpayload\u001b[0m\u001b[1;33m=\u001b[0m\u001b[1;32mNone\u001b[0m\u001b[1;33m,\u001b[0m \u001b[1;33m**\u001b[0m\u001b[0mkwargs\u001b[0m\u001b[1;33m)\u001b[0m\u001b[1;33m:\u001b[0m\u001b[1;33m\u001b[0m\u001b[1;33m\u001b[0m\u001b[0m\n",
      "\u001b[1;32m~\\anaconda3\\lib\\site-packages\\spotipy\\client.py\u001b[0m in \u001b[0;36m_internal_call\u001b[1;34m(self, method, url, payload, params)\u001b[0m\n\u001b[0;32m    265\u001b[0m             )\n\u001b[0;32m    266\u001b[0m \u001b[1;33m\u001b[0m\u001b[0m\n\u001b[1;32m--> 267\u001b[1;33m             raise SpotifyException(\n\u001b[0m\u001b[0;32m    268\u001b[0m                 \u001b[0mresponse\u001b[0m\u001b[1;33m.\u001b[0m\u001b[0mstatus_code\u001b[0m\u001b[1;33m,\u001b[0m\u001b[1;33m\u001b[0m\u001b[1;33m\u001b[0m\u001b[0m\n\u001b[0;32m    269\u001b[0m                 \u001b[1;33m-\u001b[0m\u001b[1;36m1\u001b[0m\u001b[1;33m,\u001b[0m\u001b[1;33m\u001b[0m\u001b[1;33m\u001b[0m\u001b[0m\n",
      "\u001b[1;31mSpotifyException\u001b[0m: http status: 404, code:-1 - https://api.spotify.com/v1/search?query=%25d&type=playlist&offset=997&limit=10:\n Not found., reason: None"
     ]
    }
   ],
   "metadata": {}
  },
  {
   "cell_type": "code",
   "execution_count": 33,
   "source": [
    "track_id_map[track_id_map.ID == '0UaMYEvWZi0ZqiDOoHU3YI']\n",
    "print(playlist[1])"
   ],
   "outputs": [
    {
     "output_type": "stream",
     "name": "stdout",
     "text": [
      "0JcgIOrlZ0CNUOPxyudnrK\n"
     ]
    }
   ],
   "metadata": {}
  }
 ],
 "metadata": {
  "kernelspec": {
   "name": "python3",
   "display_name": "Python 3.9.7 64-bit ('base': conda)"
  },
  "language_info": {
   "codemirror_mode": {
    "name": "ipython",
    "version": 3
   },
   "file_extension": ".py",
   "mimetype": "text/x-python",
   "name": "python",
   "nbconvert_exporter": "python",
   "pygments_lexer": "ipython3",
   "version": "3.9.7"
  },
  "interpreter": {
   "hash": "4a906f7e0a6bfc22ca7b8bae79ffd3d15475a16f5b4829c6bfd1f11725772ad8"
  }
 },
 "nbformat": 4,
 "nbformat_minor": 4
}