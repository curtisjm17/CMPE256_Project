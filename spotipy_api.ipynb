{
 "cells": [
  {
   "cell_type": "code",
   "execution_count": 1,
   "source": [
    "import spotipy_api\n",
    "import pickle\n",
    "import pandas as pd\n",
    "import time"
   ],
   "outputs": [],
   "metadata": {}
  },
  {
   "cell_type": "code",
   "execution_count": 2,
   "source": [
    "# Index - Track ID mapping\n",
    "track_id_map = pd.read_csv('data/tracks.csv', header=None, names=['index', 'ID'])\n",
    "\n",
    "# Easy Spotipy API\n",
    "sp_api = spotipy_api.EasySpotipy()"
   ],
   "outputs": [],
   "metadata": {}
  },
  {
   "cell_type": "code",
   "execution_count": 3,
   "source": [
    "start = time.time()\n",
    "playlist = sp_api.getRandomPlaylist(min_tracks=10, max_tracks=20)\n",
    "print(f'Took {time.time() - start}s to find a playlist with {len(playlist)} compatible tracks')\n",
    "print(playlist)"
   ],
   "outputs": [
    {
     "output_type": "stream",
     "name": "stdout",
     "text": [
      "Took 4.767830848693848s to find a playlist with 20 compatible tracks\n",
      "[['27GmP9AWRs744SzKcpJsTZ' 1925 'Jumpman - Drake, Future']\n",
      " ['6n3HGiq4v35D6eFOSwqYuo' 3513 'Teenage Fever - Drake']\n",
      " ['6V2D8Lls36APk0THDjBDfE' 3120 'Started From the Bottom - Drake']\n",
      " ['343YBumqHu19cGoGARUTsd' 4638 'Fake Love - Drake']\n",
      " ['2bjwRfXMk4uRgOD9IBYl9h' 511 'Portland - Drake, Quavo, Travis Scott']\n",
      " ['4kNvYhyl8R6m1vykVkcuBu' 8913 'All Me - Drake, 2 Chainz, Big Sean']\n",
      " ['6HfOzLLjsaXsehIFEsrxTk' 1336 'Trophies - Young Money, Drake']\n",
      " ['124NFj84ppZ5pAxTuVQYCQ' 5545 'Take Care - Drake, Rihanna']\n",
      " ['3cjF2OFRmip8spwZYQRKxP' 3520 'Feel No Ways - Drake']\n",
      " ['0m1KYWlT6LhFRBDVq9UNx4' 18295\n",
      "  'HYFR (Hell Ya Fucking Right) - Drake, Lil Wayne']\n",
      " ['79XrkTOfV1AqySNjVlygpW' 5982 'Energy - Drake']\n",
      " ['4jtyUzZm9WLc2AdaJ1dso7' 3158 '0 To 100 / The Catch Up - Drake']\n",
      " ['6UjfByV1lDLW0SOVQA4NAi' 8443 'Gyalchester - Drake']\n",
      " ['0V4l4GQhgnWQGtCWpvA7va' 8832 'Crew Love - Drake, The Weeknd']\n",
      " ['4BhGTc3Cgay2U1QcTS7vQe' 16981 'Fire & Desire - Drake']\n",
      " ['5nN8BwAQDJDguq7Dpd3JQQ' 8994\n",
      "  'Where Ya At (feat. Drake) - Future, Drake']\n",
      " ['1ID1QFSNNxi0hiZCNcwjUC' 5981 'Legend - Drake']\n",
      " ['5InOp6q2vvx0fShv3bzFLZ' 14435 'Know Yourself - Drake']\n",
      " ['7y6c07pgjZvtHI9kuMVqk1' 3512\n",
      "  'Get It Together - Drake, Black Coffee, Jorja Smith']\n",
      " ['2KvHC9z14GSl4YpkNMX384' 26946 'Do Not Disturb - Drake']]\n"
     ]
    }
   ],
   "metadata": {}
  },
  {
   "cell_type": "code",
   "execution_count": 4,
   "source": [
    "# Just IDs\n",
    "print('Track IDs')\n",
    "print(playlist[:,0])"
   ],
   "outputs": [
    {
     "output_type": "stream",
     "name": "stdout",
     "text": [
      "Track IDs\n",
      "['27GmP9AWRs744SzKcpJsTZ' '6n3HGiq4v35D6eFOSwqYuo'\n",
      " '6V2D8Lls36APk0THDjBDfE' '343YBumqHu19cGoGARUTsd'\n",
      " '2bjwRfXMk4uRgOD9IBYl9h' '4kNvYhyl8R6m1vykVkcuBu'\n",
      " '6HfOzLLjsaXsehIFEsrxTk' '124NFj84ppZ5pAxTuVQYCQ'\n",
      " '3cjF2OFRmip8spwZYQRKxP' '0m1KYWlT6LhFRBDVq9UNx4'\n",
      " '79XrkTOfV1AqySNjVlygpW' '4jtyUzZm9WLc2AdaJ1dso7'\n",
      " '6UjfByV1lDLW0SOVQA4NAi' '0V4l4GQhgnWQGtCWpvA7va'\n",
      " '4BhGTc3Cgay2U1QcTS7vQe' '5nN8BwAQDJDguq7Dpd3JQQ'\n",
      " '1ID1QFSNNxi0hiZCNcwjUC' '5InOp6q2vvx0fShv3bzFLZ'\n",
      " '7y6c07pgjZvtHI9kuMVqk1' '2KvHC9z14GSl4YpkNMX384']\n"
     ]
    }
   ],
   "metadata": {}
  },
  {
   "cell_type": "code",
   "execution_count": 5,
   "source": [
    "# Just indices (of original track ID map)\n",
    "print('Track indices')\n",
    "print(playlist[:,1])"
   ],
   "outputs": [
    {
     "output_type": "stream",
     "name": "stdout",
     "text": [
      "Track indices\n",
      "[1925 3513 3120 4638 511 8913 1336 5545 3520 18295 5982 3158 8443 8832\n",
      " 16981 8994 5981 14435 3512 26946]\n"
     ]
    }
   ],
   "metadata": {}
  },
  {
   "cell_type": "code",
   "execution_count": 6,
   "source": [
    "# Just indices (of original track ID map)\n",
    "print('Names')\n",
    "print(playlist[:,2])"
   ],
   "outputs": [
    {
     "output_type": "stream",
     "name": "stdout",
     "text": [
      "Names\n",
      "['Jumpman - Drake, Future' 'Teenage Fever - Drake'\n",
      " 'Started From the Bottom - Drake' 'Fake Love - Drake'\n",
      " 'Portland - Drake, Quavo, Travis Scott'\n",
      " 'All Me - Drake, 2 Chainz, Big Sean' 'Trophies - Young Money, Drake'\n",
      " 'Take Care - Drake, Rihanna' 'Feel No Ways - Drake'\n",
      " 'HYFR (Hell Ya Fucking Right) - Drake, Lil Wayne' 'Energy - Drake'\n",
      " '0 To 100 / The Catch Up - Drake' 'Gyalchester - Drake'\n",
      " 'Crew Love - Drake, The Weeknd' 'Fire & Desire - Drake'\n",
      " 'Where Ya At (feat. Drake) - Future, Drake' 'Legend - Drake'\n",
      " 'Know Yourself - Drake'\n",
      " 'Get It Together - Drake, Black Coffee, Jorja Smith'\n",
      " 'Do Not Disturb - Drake']\n"
     ]
    }
   ],
   "metadata": {}
  },
  {
   "cell_type": "code",
   "execution_count": 7,
   "source": [
    "# API Helper\n",
    "first_track_ID = track_id_map[track_id_map.index == 0].ID[0]\n",
    "print(sp_api.getNameAndArtistFromTrackID(first_track_ID))"
   ],
   "outputs": [
    {
     "output_type": "stream",
     "name": "stdout",
     "text": [
      "Lose Control (feat. Ciara & Fat Man Scoop) - Missy Elliott, Ciara, Fatman Scoop\n"
     ]
    }
   ],
   "metadata": {}
  }
 ],
 "metadata": {
  "kernelspec": {
   "name": "python3",
   "display_name": "Python 3.9.7 64-bit ('base': conda)"
  },
  "language_info": {
   "codemirror_mode": {
    "name": "ipython",
    "version": 3
   },
   "file_extension": ".py",
   "mimetype": "text/x-python",
   "name": "python",
   "nbconvert_exporter": "python",
   "pygments_lexer": "ipython3",
   "version": "3.9.7"
  },
  "interpreter": {
   "hash": "4a906f7e0a6bfc22ca7b8bae79ffd3d15475a16f5b4829c6bfd1f11725772ad8"
  }
 },
 "nbformat": 4,
 "nbformat_minor": 4
}