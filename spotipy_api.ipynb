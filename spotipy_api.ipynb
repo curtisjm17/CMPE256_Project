{
 "cells": [
  {
   "cell_type": "code",
   "execution_count": 6,
   "source": [
    "import spotipy_api\n",
    "import pickle\n",
    "import pandas as pd\n",
    "import time"
   ],
   "outputs": [],
   "metadata": {}
  },
  {
   "cell_type": "code",
   "execution_count": 5,
   "source": [
    "# Index - Track ID mapping\n",
    "track_id_map = pd.read_csv('data/tracks.csv', header=None, names=['index', 'ID'])\n",
    "\n",
    "# Easy Spotipy API\n",
    "sp_api = spotipy_api.EasySpotipy()"
   ],
   "outputs": [],
   "metadata": {}
  },
  {
   "cell_type": "code",
   "execution_count": 7,
   "source": [
    "start = time.time()\n",
    "playlist = sp_api.getRandomPlaylist()\n",
    "print(f'Took {time.time() - start}s to find a playlist with {len(playlist)} compatible tracks')\n",
    "print(playlist)"
   ],
   "outputs": [
    {
     "output_type": "stream",
     "name": "stdout",
     "text": [
      "Took 3.5289735794067383s to find a playlist with 28 compatible tracks\n",
      "[['2NaIkDKuKrAcHoj8moeIQV' 21602\n",
      "  'Slipknot - XXXTENTACION, Kin$oul, Killstation']\n",
      " ['7floNISpH8VF4z4459Qo18' 7523 'Look At Me! - XXXTENTACION']\n",
      " ['5TXDeTFVRVY7Cvt0Dw4vWW' 18704 'Revenge - XXXTENTACION']\n",
      " ['5xbrhx2tMMcN68IT3cJbhS' 21606 'Ayala (Outro) - XXXTENTACION']\n",
      " ['7dI3HTnuicC2aKkXigoFS2' 50136 '777 - Kid Trunks, XXXTENTACION']\n",
      " ['5BYCMWNQqz4nqErN1ReRGL' 154756\n",
      "  'Curse - Bass Santana, XXXTENTACION, Cooliecut, Kin$oul']\n",
      " ['4zmbR2kLWowi8Pk0x9vR2T' 50137 'Supra - Kin$oul, XXXTENTACION']\n",
      " ['6t2dHDQMpBlHH0vrHIifaz' 191802\n",
      "  'Members Only Shit - Kin$oul, Killstation, ikabodVEINS']\n",
      " ['2yZax79pOrYuyIFVW2cZY2' 18882 'Carry On - XXXTENTACION']\n",
      " ['05And5JRQJeIaMASE5D9Nj' 158538\n",
      "  '4Peat - XXXTENTACION, Ski Mask The Slump God']\n",
      " ['3axhnTsNa4YefoyLGxjdWz' 158527\n",
      "  'Bowser - XXXTENTACION, Ski Mask The Slump God']\n",
      " ['1j6CwAJS2PTMvDYp33zpWP' 18885\n",
      "  'H2O - XXXTENTACION, Ski Mask The Slump God']\n",
      " ['0J2etwoRJ4SLhNfDYWo3mo' 158535 'Find Me (Intro) - XXXTENTACION']\n",
      " ['2UwbhMie1EAYuTZ0QXeMwl' 21601 'Save Me - XXXTENTACION']\n",
      " ['05bnEv2dpFzmGVLGdjD9UP' 18883 'Orlando - XXXTENTACION']\n",
      " ['3GVkPk8mqxz0itaAriG1L7' 16966\n",
      "  'Everybody Dies In Their Nightmares - XXXTENTACION']\n",
      " ['7nQC28WpPX2IDZJ9PafNB6' 186858\n",
      "  'Invisible Klip - Kid Trunks, Robb Bank$, Ski Mask The Slump God']\n",
      " ['7wiFqOWEOHPdYojpDcnNuA' 177243 'Chokehold - Cooliecut']\n",
      " ['3ldHQALvRnx28a4paD9Etr' 91583\n",
      "  'I Spoke to the Devil in Miami, He Said Everything Would Be Fine (Remix) - Erikthemc']\n",
      " ['0IrnW7t5oRzmSqIsH4wwWz' 370307\n",
      "  'LOL - Bass Santana, Kid Trunks, Flyboy Taratino']\n",
      " ['4pjsFGDAEZXtDj9xy1IXuM' 432138\n",
      "  'Take A Step Back - Ski Mask The Slump God, XXXTENTACION']\n",
      " ['4zIMuGSdbGTahvHB7CloVR' 134867 'Wassup Bro! - Craig Xen']\n",
      " ['455IYy22hKJXgEwgownVqT' 158536 'Boost! - XXXTENTACION']\n",
      " ['3IqYzuTpPn3npkxdKh4dtk' 158537\n",
      "  'Came2Kill - XXXTENTACION, Kid Trunks, Craig Xen']\n",
      " ['3t1umkM9nhRHBr1Vjvd9Dy' 158539\n",
      "  'Static Shock - XXXTENTACION, Ski Mask The Slump God']\n",
      " ['2vQwlW8H1jFveGNXwZfJCV' 20081 'Dead Inside (Interlude) - XXXTENTACION']\n",
      " ['7t2eWdGWBTAxaXxaGqq9ts' 2769 'Life Is Short - Ski Mask The Slump God']\n",
      " ['5rAQspekSql7kfcfEuZ1YM' 370305 'God Damn - Bass Santana, Kin$oul']]\n"
     ]
    }
   ],
   "metadata": {}
  },
  {
   "cell_type": "code",
   "execution_count": 8,
   "source": [
    "# Just IDs\n",
    "print('Track IDs')\n",
    "print(playlist[:,0])"
   ],
   "outputs": [
    {
     "output_type": "stream",
     "name": "stdout",
     "text": [
      "Track IDs\n",
      "['2NaIkDKuKrAcHoj8moeIQV' '7floNISpH8VF4z4459Qo18'\n",
      " '5TXDeTFVRVY7Cvt0Dw4vWW' '5xbrhx2tMMcN68IT3cJbhS'\n",
      " '7dI3HTnuicC2aKkXigoFS2' '5BYCMWNQqz4nqErN1ReRGL'\n",
      " '4zmbR2kLWowi8Pk0x9vR2T' '6t2dHDQMpBlHH0vrHIifaz'\n",
      " '2yZax79pOrYuyIFVW2cZY2' '05And5JRQJeIaMASE5D9Nj'\n",
      " '3axhnTsNa4YefoyLGxjdWz' '1j6CwAJS2PTMvDYp33zpWP'\n",
      " '0J2etwoRJ4SLhNfDYWo3mo' '2UwbhMie1EAYuTZ0QXeMwl'\n",
      " '05bnEv2dpFzmGVLGdjD9UP' '3GVkPk8mqxz0itaAriG1L7'\n",
      " '7nQC28WpPX2IDZJ9PafNB6' '7wiFqOWEOHPdYojpDcnNuA'\n",
      " '3ldHQALvRnx28a4paD9Etr' '0IrnW7t5oRzmSqIsH4wwWz'\n",
      " '4pjsFGDAEZXtDj9xy1IXuM' '4zIMuGSdbGTahvHB7CloVR'\n",
      " '455IYy22hKJXgEwgownVqT' '3IqYzuTpPn3npkxdKh4dtk'\n",
      " '3t1umkM9nhRHBr1Vjvd9Dy' '2vQwlW8H1jFveGNXwZfJCV'\n",
      " '7t2eWdGWBTAxaXxaGqq9ts' '5rAQspekSql7kfcfEuZ1YM']\n"
     ]
    }
   ],
   "metadata": {}
  },
  {
   "cell_type": "code",
   "execution_count": 9,
   "source": [
    "# Just indices (of original track ID map)\n",
    "print('Track indices')\n",
    "print(playlist[:,1])"
   ],
   "outputs": [
    {
     "output_type": "stream",
     "name": "stdout",
     "text": [
      "Track indices\n",
      "[21602 7523 18704 21606 50136 154756 50137 191802 18882 158538 158527\n",
      " 18885 158535 21601 18883 16966 186858 177243 91583 370307 432138 134867\n",
      " 158536 158537 158539 20081 2769 370305]\n"
     ]
    }
   ],
   "metadata": {}
  },
  {
   "cell_type": "code",
   "execution_count": 10,
   "source": [
    "# Just indices (of original track ID map)\n",
    "print('Names')\n",
    "print(playlist[:,2])"
   ],
   "outputs": [
    {
     "output_type": "stream",
     "name": "stdout",
     "text": [
      "Names\n",
      "['Slipknot - XXXTENTACION, Kin$oul, Killstation'\n",
      " 'Look At Me! - XXXTENTACION' 'Revenge - XXXTENTACION'\n",
      " 'Ayala (Outro) - XXXTENTACION' '777 - Kid Trunks, XXXTENTACION'\n",
      " 'Curse - Bass Santana, XXXTENTACION, Cooliecut, Kin$oul'\n",
      " 'Supra - Kin$oul, XXXTENTACION'\n",
      " 'Members Only Shit - Kin$oul, Killstation, ikabodVEINS'\n",
      " 'Carry On - XXXTENTACION' '4Peat - XXXTENTACION, Ski Mask The Slump God'\n",
      " 'Bowser - XXXTENTACION, Ski Mask The Slump God'\n",
      " 'H2O - XXXTENTACION, Ski Mask The Slump God'\n",
      " 'Find Me (Intro) - XXXTENTACION' 'Save Me - XXXTENTACION'\n",
      " 'Orlando - XXXTENTACION'\n",
      " 'Everybody Dies In Their Nightmares - XXXTENTACION'\n",
      " 'Invisible Klip - Kid Trunks, Robb Bank$, Ski Mask The Slump God'\n",
      " 'Chokehold - Cooliecut'\n",
      " 'I Spoke to the Devil in Miami, He Said Everything Would Be Fine (Remix) - Erikthemc'\n",
      " 'LOL - Bass Santana, Kid Trunks, Flyboy Taratino'\n",
      " 'Take A Step Back - Ski Mask The Slump God, XXXTENTACION'\n",
      " 'Wassup Bro! - Craig Xen' 'Boost! - XXXTENTACION'\n",
      " 'Came2Kill - XXXTENTACION, Kid Trunks, Craig Xen'\n",
      " 'Static Shock - XXXTENTACION, Ski Mask The Slump God'\n",
      " 'Dead Inside (Interlude) - XXXTENTACION'\n",
      " 'Life Is Short - Ski Mask The Slump God'\n",
      " 'God Damn - Bass Santana, Kin$oul']\n"
     ]
    }
   ],
   "metadata": {}
  },
  {
   "cell_type": "code",
   "execution_count": 17,
   "source": [
    "# API Helper\n",
    "first_track_ID = track_id_map[track_id_map.index == 0].ID[0]\n",
    "print(sp_api.getNameAndArtistFromTrackID(first_track_ID))"
   ],
   "outputs": [
    {
     "output_type": "stream",
     "name": "stdout",
     "text": [
      "Lose Control (feat. Ciara & Fat Man Scoop) - Missy Elliott, Ciara, Fatman Scoop\n"
     ]
    }
   ],
   "metadata": {}
  }
 ],
 "metadata": {
  "kernelspec": {
   "name": "python3",
   "display_name": "Python 3.9.7 64-bit ('base': conda)"
  },
  "language_info": {
   "codemirror_mode": {
    "name": "ipython",
    "version": 3
   },
   "file_extension": ".py",
   "mimetype": "text/x-python",
   "name": "python",
   "nbconvert_exporter": "python",
   "pygments_lexer": "ipython3",
   "version": "3.9.7"
  },
  "interpreter": {
   "hash": "4a906f7e0a6bfc22ca7b8bae79ffd3d15475a16f5b4829c6bfd1f11725772ad8"
  }
 },
 "nbformat": 4,
 "nbformat_minor": 4
}