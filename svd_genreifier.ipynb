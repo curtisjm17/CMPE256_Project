{
 "cells": [
  {
   "cell_type": "code",
   "execution_count": 1,
   "id": "7675fd39",
   "metadata": {},
   "outputs": [],
   "source": [
    "#WARNING TRACK OPTION NEEDS SIGNIFICANT MEMORY\n",
    "import sys\n",
    "import json\n",
    "import time\n",
    "import os\n",
    "import numpy as np\n",
    "from scipy.sparse import csr_matrix\n",
    "from scipy.sparse import csc_matrix\n",
    "from scipy.sparse import lil_matrix\n",
    "from scipy.sparse import hstack\n",
    "from scipy.sparse import vstack\n",
    "from scipy.sparse.linalg import svds\n",
    "import scipy.sparse\n",
    "import matplotlib.pyplot as plt\n",
    "import csv\n",
    "import operator"
   ]
  },
  {
   "cell_type": "code",
   "execution_count": 2,
   "id": "13039cad",
   "metadata": {},
   "outputs": [],
   "source": [
    "data_location_desktop = \"/home/ubutubiggerbetter/shared/data/spotify_data/data/new_new_formatted_data\"\n",
    "data_location_laptop = \"/media/sf_VMDropBox/spotify_data/data/new_formatted_data\"\n",
    "data_location_laptop = \"/media/sf_VMDropBox/spotify_data/data/tmp_test\"\n",
    "raw_data_location = os.path.join(data_location_desktop, '..')\n",
    "data_location = data_location_desktop\n",
    "save_location = data_location\n",
    "\n",
    "\n",
    "isdir = os.path.isdir(data_location)\n",
    "if isdir == False:\n",
    "    print(data_location, ' does not exist')\n"
   ]
  },
  {
   "cell_type": "code",
   "execution_count": 3,
   "id": "b22f9cb2",
   "metadata": {},
   "outputs": [],
   "source": [
    "Usparse = scipy.sparse.load_npz(os.sep.join((data_location, 'U.npz')))\n",
    "VTsparse = scipy.sparse.load_npz(os.sep.join((data_location, 'VT.npz')))\n",
    "playlist_file = os.sep.join((data_location, \"tr_playlistname_index_new.csv\"))\n",
    "full_char_mat = scipy.sparse.load_npz(os.sep.join((data_location, 'track_full_char_mat.npz')))\n",
    "feature_file = os.sep.join((data_location, \"track_index_new.csv\"))"
   ]
  },
  {
   "cell_type": "code",
   "execution_count": 4,
   "id": "602b1d31",
   "metadata": {},
   "outputs": [],
   "source": [
    "playlist_indices = sorted([38, 738, 807, 806, 1308, 1563, 1658, 1653, \\\n",
    "                   1965, 4278, 4470, 4553, 5947, 21944, 23637, \\\n",
    "                   29330, 371355, 14613, 377409, 377408, 782899, \\\n",
    "                   804775, 4074])"
   ]
  },
  {
   "cell_type": "code",
   "execution_count": 5,
   "id": "cd3a6eaa",
   "metadata": {},
   "outputs": [],
   "source": [
    "#See below for how it's run\n",
    "def genrefier(playlist_indices, Usparse, VTsparse, playlist_file, track_file, latent_factor_count = 1, top_values = 10):\n",
    "    start_time=  time.time()\n",
    "    #Convert to useable array:\n",
    "    \n",
    "    U = Usparse.toarray()\n",
    "    VT = VTsparse.toarray()\n",
    "    #Flip around:\n",
    "    n = U.shape[1]\n",
    "    U[:,0:n] = U[:, n-1::-1]\n",
    "    VT[0:n, :] = VT[n-1::-1,:]\n",
    "\n",
    "    print('Prepared Information Arrays, elapsed time: ', time.time() - start_time)\n",
    "    start_time = time.time()\n",
    "    #Recover Track ingormation\n",
    "    track_file = os.sep.join((data_location, \"track_index_new.csv\"))\n",
    "    track_dict = {}\n",
    "    track_index_dict = {}\n",
    "    fobj = open(track_file, \"r\")\n",
    "    w = csv.DictReader(fobj)\n",
    "    for row in w:\n",
    "        track_dict[row['track_name']] = row['index']\n",
    "        track_index_dict[row['index']] = row['track_name']\n",
    "    fobj.close()\n",
    "    \n",
    "    #Recover Playlist Information:\n",
    "    playlist_dict= {}\n",
    "    pl_index_dict = {}\n",
    "    fobj = open(playlist_file, \"r\")\n",
    "    w = csv.DictReader(fobj)\n",
    "    for row in w:\n",
    "        playlist_dict[row['playlist_name']] = row['index']\n",
    "        pl_index_dict[row['index']] = row['playlist_name']\n",
    "    fobj.close()\n",
    "    print('Read in playlist info, elapsed time: ', time.time() - start_time)\n",
    "    start_time = time.time()\n",
    "    #Get songs that are in matrix:\n",
    "    print('Songs in Playlist: ')\n",
    "    for i in playlist_indices:\n",
    "        name = track_index_dict[str(i)]\n",
    "        print(name)\n",
    "\n",
    "    #Turn playlist_indices into useable matrix:\n",
    "    plist = csc_matrix((U.shape[0], 1))\n",
    "    plist[playlist_indices]= 1 \n",
    "    \n",
    "    #Map into latent space\n",
    "    genre_array = plist.transpose() * U\n",
    "    #Get the top genres:\n",
    "    top_genres = np.argsort(genre_array)\n",
    "    top_genres = np.fliplr(top_genres)\n",
    "    \n",
    "    for i in range(0, latent_factor_count):\n",
    "        top_genre = top_genres[0][i]\n",
    "        #Get associated playlists from VT:\n",
    "        associated_playlists = np.argsort(VT[top_genre,:])\n",
    "        #flip so max is at the top\n",
    "        associated_playlists = associated_playlists[::-1]\n",
    "        \n",
    "        print('='*50)\n",
    "        print('TOP GENRE ', i)\n",
    "        print('Best Described As (from Playlist Names):')\n",
    "        for j in range(0, top_values):\n",
    "            playlist_name = pl_index_dict[str(associated_playlists[j])]\n",
    "            print(playlist_name, end=', ')\n",
    "    print('\\nDone. Time Elapsed: ', time.time() - start_time)"
   ]
  },
  {
   "cell_type": "code",
   "execution_count": 6,
   "id": "b47e5cf1",
   "metadata": {},
   "outputs": [
    {
     "name": "stdout",
     "output_type": "stream",
     "text": [
      "Prepared Information Arrays, elapsed time:  4.692011833190918\n",
      "Read in playlist info, elapsed time:  10.484344482421875\n",
      "Songs in Playlist: \n",
      "Mr. Brightside\n",
      "Tubthumping\n",
      "Semi-Charmed Life\n",
      "Jumper - 1998 Edit\n",
      "Little Lion Man\n",
      "Roses\n",
      "Wonderwall\n",
      "Creep - Acoustic\n",
      "Hey There Delilah\n",
      "Welcome To The Jungle\n",
      "Shoop (Re-Recorded) [Remastered]\n",
      "Drops of Jupiter\n",
      "Ophelia\n",
      "Kryptonite\n",
      "First Date\n",
      "Drunken Lullabies\n",
      "A Sky Full Of Stars - Radio Edit\n",
      "Pumpin Blood - The Chainsmokers Remix\n",
      "In My Youth\n",
      "Rolling In the Deep (Acoustic Tribute to Adele)\n",
      "Sweet Child O' mine (Acoustic)\n",
      "I Gotta Feeling (Blackeyed Peas)\n",
      "I'm Shipping Up to Boston\n"
     ]
    },
    {
     "name": "stderr",
     "output_type": "stream",
     "text": [
      "/home/ubutubiggerbetter/anaconda3/envs/w_pyspark/lib/python3.9/site-packages/scipy/sparse/_index.py:125: SparseEfficiencyWarning: Changing the sparsity structure of a csc_matrix is expensive. lil_matrix is more efficient.\n",
      "  self._set_arrayXarray(i, j, x)\n"
     ]
    },
    {
     "name": "stdout",
     "output_type": "stream",
     "text": [
      "==================================================\n",
      "TOP GENRE  0\n",
      "Best Described As (from Playlist Names):\n",
      "Alt_420, alt/rock, Alternative_978, alt_192, Alternative/Pop, Alternative _49, Not Rap_11, rockish_19, \n",
      "Done. Time Elapsed:  0.9518022537231445\n"
     ]
    }
   ],
   "source": [
    "#Will read out the most representative genre, with a given playlist:\n",
    "genrefier(playlist_indices, Usparse, VTsparse, playlist_file, feature_file, top_values = 8)"
   ]
  }
 ],
 "metadata": {
  "kernelspec": {
   "display_name": "Python [conda env:w_pyspark]",
   "language": "python",
   "name": "conda-env-w_pyspark-py"
  },
  "language_info": {
   "codemirror_mode": {
    "name": "ipython",
    "version": 3
   },
   "file_extension": ".py",
   "mimetype": "text/x-python",
   "name": "python",
   "nbconvert_exporter": "python",
   "pygments_lexer": "ipython3",
   "version": "3.9.7"
  }
 },
 "nbformat": 4,
 "nbformat_minor": 5
}
